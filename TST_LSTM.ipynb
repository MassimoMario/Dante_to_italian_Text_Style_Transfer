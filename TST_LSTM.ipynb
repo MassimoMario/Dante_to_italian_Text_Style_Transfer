{
 "cells": [
  {
   "cell_type": "code",
   "execution_count": 1,
   "metadata": {},
   "outputs": [],
   "source": [
    "import numpy as np\n",
    "from tqdm import tqdm\n",
    "import matplotlib.pyplot as plt\n",
    "import torch\n",
    "import torch.nn as nn\n",
    "from torch.nn import functional as F\n",
    "from torch.utils.data import DataLoader,TensorDataset\n",
    "from gensim.models import Word2Vec"
   ]
  },
  {
   "cell_type": "code",
   "execution_count": 2,
   "metadata": {},
   "outputs": [],
   "source": [
    "device = torch.device(\"cuda\" if torch.cuda.is_available() else \"cpu\")"
   ]
  },
  {
   "cell_type": "code",
   "execution_count": 3,
   "metadata": {},
   "outputs": [],
   "source": [
    "class GRUVAE(nn.Module):\n",
    "    def __init__(self, embedding_matrix, hidden_dim, latent_dim, style_dim, content_dim, vocab_size, sos_token, num_layers):\n",
    "        super(GRUVAE, self).__init__()\n",
    "\n",
    "        self.embedding_dim = embedding_matrix.shape[1]\n",
    "        self.sos_token = sos_token\n",
    "\n",
    "        self.embedding = nn.Embedding.from_pretrained(embedding_matrix, freeze = True)\n",
    "        self.layer_norm = nn.LayerNorm(self.embedding_dim)\n",
    "        self.encoder = nn.LSTM(self.embedding_dim, hidden_dim, num_layers, batch_first=True) # (N,B,H) N batches, B sequence length, H input dim\n",
    "        self.encoder_content = nn.GRU(self.embedding_dim, hidden_dim, num_layers, batch_first=True)\n",
    "        self.fcmu_s = nn.Linear(hidden_dim, style_dim)\n",
    "        self.fcvar_s = nn.Linear(hidden_dim, style_dim)\n",
    "        self.fcmu_c = nn.Linear(hidden_dim, content_dim)\n",
    "        self.fcvar_c = nn.Linear(hidden_dim, content_dim)\n",
    "\n",
    "        self.fc_s = nn.Linear(hidden_dim, style_dim)\n",
    "        self.fc_c = nn.Linear(hidden_dim, content_dim)\n",
    "        self.fclatent = nn.Linear(hidden_dim, latent_dim)\n",
    "\n",
    "        self.fc = nn.Linear(latent_dim, hidden_dim)\n",
    "        self.decoder = nn.GRU(self.embedding_dim, hidden_dim, num_layers,batch_first=True)\n",
    "        self.fc_out = nn.Linear(hidden_dim, vocab_size)\n",
    "\n",
    "    def forward(self, x):\n",
    "        embedded_input = self.embedding(x)\n",
    "        #out = self.layer_norm(embedded_input)\n",
    "        _, (hn, cn) = self.encoder(embedded_input)\n",
    "        \n",
    "        mu_s = self.fcmu_s(hn)\n",
    "        logvar_s = self.fcvar_s(hn)\n",
    "        mu_c = self.fcmu_c(hn)\n",
    "        logvar_c = self.fcvar_c(hn)\n",
    "\n",
    "        style = self.reparametrization(mu_s, logvar_s)\n",
    "        content = self.reparametrization(mu_c, logvar_c)\n",
    "        z = torch.cat((style,content), dim = 2)\n",
    "        z = self.fc(z)\n",
    "\n",
    "        sos_token = self.sos_token.repeat(x.size(0),1)\n",
    "        sos_token = self.embedding(sos_token)\n",
    "        decoder_input = torch.cat((sos_token, embedded_input), dim = 1)\n",
    "        decoder_input = decoder_input[:,:-1,:]\n",
    "\n",
    "        '''output = []\n",
    "        for t in range(decoder_input.shape[1]):\n",
    "            outputs, _ = self.decoder(decoder_input[:,t,:].unsqueeze(1), z)\n",
    "            output.append(outputs)'''\n",
    "        \n",
    "        reconstructed_sequence = []\n",
    "        for t in range(x.shape[1]):\n",
    "            outputs, _ = self.decoder(decoder_input[:,:t+1,:], z)\n",
    "            #outputs = self.fc_out(outputs)\n",
    "            #output.append(outputs)\n",
    "            #decoder_input = self.embedding(torch.argmax(outputs, dim = -1))\n",
    "            #next_token = self.embedding(torch.multinomial(F.softmax(outputs[:,-1,:].mean(dim=0), dim = -1), 1)) # PROVA A USARE MULTINOMIAL NELL'INFERENCE STEP\n",
    "            #next_token = self.embedding(torch.argmax(F.softmax(outputs[:,-1,:], dim = -1), dim=-1))\n",
    "            #reconstructed_sequence = torch.cat((sos_token, next_token.unsqueeze(1)), dim=1)\n",
    "            reconstructed_sequence.append(outputs[:,-1,:].unsqueeze(1))\n",
    "\n",
    "        reconstructed_sequence = torch.cat(reconstructed_sequence, dim=1)\n",
    "        reconstructed_sequence = self.fc_out(reconstructed_sequence)\n",
    "\n",
    "        return reconstructed_sequence, style, content, mu_s, logvar_s, mu_c, logvar_c\n",
    "\n",
    "\n",
    "    def reparametrization(self, mu, log_var):\n",
    "        std = torch.exp(0.5*log_var)\n",
    "        eps = torch.randn_like(std)\n",
    "        return mu + eps*std\n",
    "    \n",
    "    def reconstruction(self, x):\n",
    "        embedded_input = self.embedding(x)\n",
    "        #out = self.layer_norm(embedded_input)\n",
    "        _, (hn, cn) = self.encoder(embedded_input)\n",
    "        \n",
    "        mu_s = self.fcmu_s(hn)\n",
    "        logvar_s = self.fcvar_s(hn)\n",
    "        mu_c = self.fcmu_c(hn)\n",
    "        logvar_c = self.fcvar_c(hn)\n",
    "\n",
    "        style = self.reparametrization(mu_s, logvar_s)\n",
    "        content = self.reparametrization(mu_c, logvar_c)\n",
    "        z = torch.cat((style,content), dim = 2)\n",
    "        z = self.fc(z)\n",
    "\n",
    "        sos_token = self.sos_token.repeat(x.size(0),1)\n",
    "        sos_token = self.embedding(sos_token)\n",
    "        decoder_input = sos_token\n",
    "\n",
    "        output = sos_token\n",
    "        for _ in range(x.shape[1]):\n",
    "            outputs, _ = self.decoder(output, z)\n",
    "            outputs = self.fc_out(outputs)\n",
    "            #decoder_input = self.embedding(torch.argmax(outputs, dim = -1))\n",
    "            #next_token = self.embedding(torch.multinomial(F.softmax(outputs[:,-1,:].mean(dim=0), dim = -1), 1)) # PROVA A USARE MULTINOMIAL NELL'INFERENCE STEP\n",
    "            next_token = torch.argmax(F.softmax(outputs[:,-1,:], dim = -1), dim=-1)\n",
    "            next_token = self.embedding(next_token)\n",
    "            output = torch.cat((output, next_token.unsqueeze(1)), dim=1)\n",
    "        \n",
    "        return outputs\n",
    "    \n",
    "    def TST(self, x, new_style):\n",
    "        embedded_input = self.embedding(x)\n",
    "        #out = self.layer_norm(embedded_input)\n",
    "        _, (hn, cn) = self.encoder(embedded_input)\n",
    "\n",
    "        mu_c = self.fcmu_c(hn)\n",
    "        log_var_c = self.fcvar_c(hn)\n",
    "\n",
    "        content = self.reparametrization(mu_c,log_var_c)\n",
    "\n",
    "        z = torch.cat((new_style,content), dim = 2)\n",
    "        z = self.fc(z)\n",
    "\n",
    "        sos_token = self.sos_token.repeat(x.size(0),1)\n",
    "        sos_token = self.embedding(sos_token)\n",
    "        decoder_input = sos_token\n",
    "\n",
    "        output = sos_token\n",
    "        for _ in range(x.shape[1]):\n",
    "            outputs, _ = self.decoder(output, z)\n",
    "            outputs = self.fc_out(outputs)\n",
    "            #decoder_input = self.embedding(torch.argmax(outputs, dim = -1))\n",
    "            #next_token = self.embedding(torch.multinomial(F.softmax(outputs[:,-1,:].mean(dim=0), dim = -1), 1)) # PROVA A USARE MULTINOMIAL NELL'INFERENCE STEP\n",
    "            next_token = self.embedding(torch.argmax(F.softmax(outputs[:,-1,:], dim = -1), dim=-1))\n",
    "            output = torch.cat((output, next_token.unsqueeze(1)), dim=1)\n",
    "\n",
    "        return outputs\n",
    "    \n",
    "    def style_transfer(self, x, new_style):\n",
    "        embedded_input = self.embedding(x)\n",
    "        #out = self.layer_norm(embedded_input)\n",
    "        _, (hn, cn) = self.encoder(embedded_input)\n",
    "\n",
    "        mu_c = self.fcmu_c(hn)\n",
    "        log_var_c = self.fcvar_c(hn)\n",
    "\n",
    "        content = self.reparametrization(mu_c,log_var_c)\n",
    "\n",
    "        z = torch.cat((new_style,content), dim = 2)\n",
    "        z = self.fc(z)\n",
    "        \n",
    "        sos_token = self.sos_token.repeat(x.size(0),1)\n",
    "        sos_token = self.embedding(sos_token)\n",
    "        decoder_input = torch.cat((sos_token, embedded_input), dim = 1)\n",
    "        decoder_input = decoder_input[:,:-1,:]\n",
    "        #decoder_input = sos_token\n",
    "\n",
    "        output = []\n",
    "        for t in range(decoder_input.shape[1]):\n",
    "            outputs, _ = self.decoder(decoder_input[:,t,:].unsqueeze(1), z)\n",
    "            #outputs, _ = self.decoder(decoder_input, z)\n",
    "            output.append(outputs)\n",
    "            #outputs = self.fc_out(outputs)\n",
    "            #decoder_input = self.embedding(torch.argmax(outputs, dim=-1))\n",
    "        \n",
    "        transf_sequence = torch.cat(output, dim=1)\n",
    "        transf_sequence = self.fc_out(transf_sequence)\n",
    "\n",
    "        return transf_sequence"
   ]
  },
  {
   "cell_type": "code",
   "execution_count": 4,
   "metadata": {},
   "outputs": [],
   "source": [
    "class StyleClassifier(nn.Module):\n",
    "    def __init__(self, input_dim):\n",
    "        super(StyleClassifier, self).__init__()\n",
    "        self.input_dim = input_dim\n",
    "        self.mlp = nn.Sequential(nn.Linear(input_dim,int(input_dim*0.5)),\n",
    "                                  nn.ReLU(),\n",
    "                                  nn.Linear(int(input_dim*0.5),2))\n",
    "        \n",
    "    def forward(self,x):\n",
    "        out = self.mlp(x)\n",
    "        out = F.softmax(out, dim=-1)\n",
    "        return out.view(out.shape[1], out.shape[2])"
   ]
  },
  {
   "cell_type": "code",
   "execution_count": 5,
   "metadata": {},
   "outputs": [],
   "source": [
    "class AdvStyleClassifier(nn.Module):\n",
    "    def __init__(self, input_dim):\n",
    "        super(AdvStyleClassifier, self).__init__()\n",
    "        self.input_dim = input_dim\n",
    "        self.mlp = nn.Sequential(nn.Linear(input_dim,int(input_dim*0.5)),\n",
    "                                  nn.ReLU(),\n",
    "                                  nn.Linear(int(input_dim*0.5),2))\n",
    "        \n",
    "    def forward(self,x):\n",
    "        out = self.mlp(x)\n",
    "        out = F.softmax(out, dim=-1)\n",
    "        return out.view(out.shape[1], out.shape[2])"
   ]
  },
  {
   "cell_type": "code",
   "execution_count": 6,
   "metadata": {},
   "outputs": [],
   "source": [
    "class ContentClassifier(nn.Module):\n",
    "    def __init__(self, input_dim, vocab_size):\n",
    "        super(ContentClassifier, self).__init__()\n",
    "        self.input_dim = input_dim\n",
    "        self.vocab_size = vocab_size\n",
    "        self.fc = nn.Linear(input_dim,vocab_size)\n",
    "        self.log_softmax = nn.LogSoftmax(dim=2)\n",
    "        \n",
    "    def forward(self,x):\n",
    "        out = self.fc(x)\n",
    "        out = F.softmax(out,dim=2)\n",
    "        #out = self.log_softmax(out)\n",
    "        return out.squeeze(0)"
   ]
  },
  {
   "cell_type": "code",
   "execution_count": 7,
   "metadata": {},
   "outputs": [],
   "source": [
    "class AdvContentClassifier(nn.Module):\n",
    "    def __init__(self, input_dim, vocab_size):\n",
    "        super(AdvContentClassifier, self).__init__()\n",
    "        self.input_dim = input_dim\n",
    "        self.vocab_size = vocab_size\n",
    "        self.fc = nn.Linear(input_dim,vocab_size)\n",
    "        self.log_softmax = nn.LogSoftmax(dim=2)\n",
    "        \n",
    "    def forward(self,x):\n",
    "        out = self.fc(x)\n",
    "        out = F.softmax(out,dim=2)\n",
    "        #out = self.log_softmax(out)\n",
    "        return out.squeeze(0)"
   ]
  },
  {
   "cell_type": "code",
   "execution_count": 29,
   "metadata": {},
   "outputs": [],
   "source": [
    "class EarlyStopping:\n",
    "    def __init__(self, patience=5, min_delta=0.01):\n",
    "        self.patience = patience\n",
    "        self.min_delta = min_delta\n",
    "        self.best_score = None\n",
    "        self.counter = 0\n",
    "        self.early_stop = False\n",
    "\n",
    "    def __call__(self, current_score):\n",
    "\n",
    "        if self.best_score is None:\n",
    "            self.best_score = current_score\n",
    "            return False\n",
    "\n",
    "        if current_score > self.best_score - self.min_delta:\n",
    "            self.counter += 1\n",
    "            if self.counter >= self.patience:\n",
    "                self.early_stop = True\n",
    "                return True\n",
    "        else:\n",
    "            self.best_score = current_score\n",
    "            self.counter = 0\n",
    "\n",
    "        return False"
   ]
  },
  {
   "cell_type": "markdown",
   "metadata": {},
   "source": [
    "# Train function"
   ]
  },
  {
   "cell_type": "code",
   "execution_count": 8,
   "metadata": {},
   "outputs": [],
   "source": [
    "def entropy(pred_tensor, target_tensor):\n",
    "    return - (target_tensor * torch.log(pred_tensor + 1e-9)).sum(dim=-1).mean()"
   ]
  },
  {
   "cell_type": "code",
   "execution_count": 9,
   "metadata": {},
   "outputs": [],
   "source": [
    "def vae_loss(recon_x, x, mu_s, logvar_s, mu_c, logvar_c, l_s = 0.03, l_c = 0.03, loss_fn = nn.MSELoss(), cos = nn.CosineSimilarity(), CE = nn.CrossEntropyLoss()):\n",
    "    #BCE = loss_fn(recon_x, x)\n",
    "    #BCE = 1 - cos(recon_x,x).mean()\n",
    "    #BCE = CE(recon_x.reshape((recon_x.size(0)*recon_x.size(1),recon_x.size(2))),x.view(-1))\n",
    "    BCE = CE(recon_x.view(-1, recon_x.shape[2]), x.view(-1))\n",
    "    KLD_s = -0.5 * torch.sum(1 + logvar_s - mu_s.pow(2) - logvar_s.exp())\n",
    "    KLD_c = -0.5 * torch.sum(1 + logvar_c - mu_c.pow(2) - logvar_c.exp())\n",
    "    return BCE + l_s*KLD_s + l_c*KLD_c"
   ]
  },
  {
   "cell_type": "code",
   "execution_count": 10,
   "metadata": {},
   "outputs": [],
   "source": [
    "def mul_s_loss(y_s, labels, loss_fn=nn.BCELoss()):\n",
    "    L_mul_s = loss_fn(y_s, labels)\n",
    "\n",
    "    return L_mul_s"
   ]
  },
  {
   "cell_type": "code",
   "execution_count": 11,
   "metadata": {},
   "outputs": [],
   "source": [
    "def mul_c_loss(y_c, bow, loss_fn=nn.CrossEntropyLoss()):\n",
    "    #L_mul_c = loss_fn(y_c, bow)\n",
    "    L_mul_c = entropy(y_c, bow)\n",
    "\n",
    "    return L_mul_c"
   ]
  },
  {
   "cell_type": "code",
   "execution_count": 12,
   "metadata": {},
   "outputs": [],
   "source": [
    "def dis_s_loss(y_s, labels, loss_fn=nn.BCELoss()):\n",
    "    L_dis_s = loss_fn(y_s, labels)\n",
    "\n",
    "    return L_dis_s"
   ]
  },
  {
   "cell_type": "code",
   "execution_count": 13,
   "metadata": {},
   "outputs": [],
   "source": [
    "def dis_c_loss(y_c, bow, loss_fn=nn.CrossEntropyLoss()):\n",
    "    #L_dis_c = loss_fn(y_c, bow)\n",
    "    L_dis_c = entropy(y_c, bow)\n",
    "\n",
    "    return L_dis_c"
   ]
  },
  {
   "cell_type": "code",
   "execution_count": 14,
   "metadata": {},
   "outputs": [],
   "source": [
    "def adv_s_loss(y_s, loss_fn=nn.NLLLoss()):\n",
    "    #L_adv_s = loss_fn(torch.log(y_s).view(-1), y_s.view(-1))\n",
    "    L_adv_s = entropy(y_s, y_s)\n",
    "\n",
    "    return L_adv_s"
   ]
  },
  {
   "cell_type": "code",
   "execution_count": 15,
   "metadata": {},
   "outputs": [],
   "source": [
    "def adv_c_loss(y_c, loss_fn = nn.NLLLoss()):\n",
    "    #L_adv_c = loss_fn(torch.log(y_c).view(-1),y_c.view(-1))\n",
    "    L_adv_c = entropy(y_c, y_c)\n",
    "\n",
    "    return L_adv_c"
   ]
  },
  {
   "cell_type": "code",
   "execution_count": 16,
   "metadata": {},
   "outputs": [],
   "source": [
    "def total_loss(recon_x, x, mu_s, logvar_s, mu_c, logvar_c, y_s, y_c, y_s_given_c, y_c_given_s, labels, bow, l_dk, l_muls=10, l_mulc=3, l_advs=1, l_advc=0.03):\n",
    "    L_VAE = vae_loss(recon_x, x, mu_s, logvar_s, mu_c, logvar_c, l_dk)\n",
    "    L_muls = mul_s_loss(y_s, labels)\n",
    "    L_mulc = mul_c_loss(y_c, bow)\n",
    "    L_advs = adv_s_loss(y_s_given_c)\n",
    "    L_advc = adv_c_loss(y_c_given_s)\n",
    "\n",
    "    return L_VAE + l_muls*L_muls + l_mulc*L_mulc - l_advs*L_advs - l_advc*L_advc"
   ]
  },
  {
   "cell_type": "code",
   "execution_count": 17,
   "metadata": {},
   "outputs": [],
   "source": [
    "def sigmoid_dk(epoch, k=0.08, t0=44.4):\n",
    "    return 1/(1+np.exp(-k*(epoch-t0)))"
   ]
  },
  {
   "cell_type": "code",
   "execution_count": 30,
   "metadata": {},
   "outputs": [],
   "source": [
    "def train_VAE(vae, style_classif, adv_style_classif, content_classif, adv_content_classif, train_loader, val_loader, num_epochs, vocab_size, lr = 4e-4):\n",
    "    params_tot = list(vae.parameters()) + list(style_classif.parameters()) + list(content_classif.parameters())\n",
    "    params_dis_s = list(adv_style_classif.parameters())\n",
    "    params_dis_c = list(adv_content_classif.parameters())\n",
    "\n",
    "    optimizer_tot = torch.optim.Adam(params_tot, lr = lr)\n",
    "    optimizer_dis_s = torch.optim.Adam(params_dis_s, lr = lr)\n",
    "    optimizer_dis_c = torch.optim.Adam(params_dis_c, lr = lr)\n",
    "\n",
    "    average_losses = []\n",
    "    val_losses = []\n",
    "    early_stopping = EarlyStopping()\n",
    "    \n",
    "    for epoch in tqdm(range(num_epochs)):\n",
    "        train_loss = 0.0\n",
    "        average_loss = 0.0\n",
    "        val_loss = 0.0\n",
    "        average_val_loss = 0.0\n",
    "        #l_dk = sigmoid_dk(epoch+1)\n",
    "        l_dk = 0.03\n",
    "        \n",
    "        #model.train()\n",
    "        for  i, (data, bow, labels) in enumerate(train_loader):\n",
    "            data = data.to(device)\n",
    "            labels = labels.type(torch.FloatTensor)\n",
    "\n",
    "            optimizer_tot.zero_grad()\n",
    "            optimizer_dis_s.zero_grad()\n",
    "            optimizer_dis_c.zero_grad()\n",
    "\n",
    "            reconstructed_sequence, style, content, mu_s, logvar_s, mu_c, logvar_c = vae(data)\n",
    "            \n",
    "        \n",
    "            predicted_adv_style = adv_style_classif(content)\n",
    "            predicted_adv_style = predicted_adv_style.type(torch.FloatTensor)\n",
    "            \n",
    "    \n",
    "            L_dis_s = dis_s_loss(predicted_adv_style, labels)\n",
    "\n",
    "            L_dis_s.backward()\n",
    "            optimizer_dis_s.step()\n",
    "\n",
    "            reconstructed_sequence, style, content, mu_s, logvar_s, mu_c, logvar_c = vae(data)\n",
    "\n",
    "\n",
    "            predicted_adv_content = adv_content_classif(style)\n",
    "\n",
    "            L_dis_c = dis_c_loss(predicted_adv_content, bow)\n",
    "\n",
    "            L_dis_c.backward()\n",
    "            optimizer_dis_c.step()\n",
    "\n",
    "\n",
    "            reconstructed_sequence, style, content, mu_s, logvar_s, mu_c, logvar_c = vae(data)\n",
    "            \n",
    "\n",
    "            y_s = style_classif(style)\n",
    "            y_c = content_classif(content)\n",
    "            y_s_given_c = adv_style_classif(content)\n",
    "            y_c_given_s = adv_content_classif(style)\n",
    "\n",
    "            reconstructed_sequence = torch.FloatTensor(reconstructed_sequence)\n",
    "            \n",
    "            #data = data.type(torch.FloatTensor)\n",
    "            loss_tot = total_loss(reconstructed_sequence, data, mu_s, logvar_s, mu_c, logvar_c, y_s, y_c, y_s_given_c, y_c_given_s, labels, bow, l_dk)\n",
    "            loss_tot.backward()\n",
    "            train_loss += loss_tot.item()\n",
    "\n",
    "\n",
    "            optimizer_tot.step()\n",
    "            \n",
    "            if (i + 1) % 5000 == 0:\n",
    "                print(f'Train Epoch: {epoch+1} [{i * len(data)}/{len(train_loader.dataset)} ({100. * i / len(train_loader):.0f}%)]\\tLoss: {loss_tot.item() / len(data):.6f}')\n",
    "        \n",
    "        \n",
    "\n",
    "        with torch.no_grad():\n",
    "            for i, (data, bow, labels) in enumerate(val_loader):\n",
    "                data = data.to(device)\n",
    "                labels = labels.type(torch.FloatTensor)\n",
    "\n",
    "                reconstructed_sequence, style, content, mu_s, logvar_s, mu_c, logvar_c = vae(data)\n",
    "                \n",
    "\n",
    "                y_s = style_classif(style)\n",
    "                y_c = content_classif(content)\n",
    "                y_s_given_c = adv_style_classif(content)\n",
    "                y_c_given_s = adv_content_classif(style)\n",
    "\n",
    "                reconstructed_sequence = torch.FloatTensor(reconstructed_sequence)\n",
    "                \n",
    "                #data = data.type(torch.FloatTensor)\n",
    "                val_loss_tot = total_loss(reconstructed_sequence, data, mu_s, logvar_s, mu_c, logvar_c, y_s, y_c, y_s_given_c, y_c_given_s, labels, bow, l_dk)\n",
    "                val_loss += val_loss_tot.item()\n",
    "\n",
    "\n",
    "                \n",
    "                if (i + 1) % 5000 == 0:\n",
    "                    print(f'Train Epoch: {epoch+1} [{i * len(data)}/{len(val_loader.dataset)} ({100. * i / len(val_loader):.0f}%)]\\tLoss: {val_loss_tot.item() / len(data):.6f}')\n",
    "            \n",
    "            \n",
    "        average_loss = train_loss / len(train_loader.dataset)\n",
    "        average_losses.append(average_loss)\n",
    "\n",
    "        average_val_loss = val_loss / len(val_loader.dataset)\n",
    "        val_losses.append(average_val_loss)\n",
    "        \n",
    "        print(f'====> Epoch: {epoch+1} Average train loss: {average_loss:.4f}, Average val loss: {average_val_loss:.4f}')\n",
    "        if average_val_loss > 1.2*average_loss or early_stopping(average_val_loss):\n",
    "            print('Early stopping\\n')\n",
    "            break\n",
    "    \n",
    "    plt.plot(np.linspace(1,num_epochs,len(average_losses)), average_losses, c = 'darkcyan',label = 'train')\n",
    "    plt.plot(np.linspace(1,num_epochs,len(val_losses)), val_losses, c = 'orange',label = 'val')\n",
    "    plt.legend()\n",
    "    plt.xlabel(\"Epochs\")\n",
    "    plt.ylabel(\"Loss\")\n",
    "    plt.title('LSTM + GRU training')\n",
    "    plt.show()\n",
    "    return average_losses"
   ]
  },
  {
   "cell_type": "markdown",
   "metadata": {},
   "source": [
    "# è importantissimo"
   ]
  },
  {
   "cell_type": "code",
   "execution_count": 21,
   "metadata": {},
   "outputs": [],
   "source": [
    "#nomeFile='divina_commedia.txt'\n",
    "nomeFile='lo_cunto_de_li_cunti.txt'\n",
    "#nomeFile = 'uno_nessuno_e_i_malavoglia.txt'\n",
    "nomeFile = 'tutto_assieme.txt'\n",
    "\n",
    "with open(nomeFile, 'r', encoding='utf-8') as f:\n",
    "    text = f.read()"
   ]
  },
  {
   "cell_type": "code",
   "execution_count": 22,
   "metadata": {},
   "outputs": [
    {
     "name": "stdout",
     "output_type": "stream",
     "text": [
      "203210\n"
     ]
    },
    {
     "data": {
      "text/plain": [
       "['nel',\n",
       " 'mezzo',\n",
       " 'del',\n",
       " 'cammin',\n",
       " 'di',\n",
       " 'nostra',\n",
       " 'vita',\n",
       " 'mi',\n",
       " 'ritrovai',\n",
       " 'per']"
      ]
     },
     "execution_count": 22,
     "metadata": {},
     "output_type": "execute_result"
    }
   ],
   "source": [
    "print(len(text.split()))\n",
    "text.split()[:10]"
   ]
  },
  {
   "cell_type": "code",
   "execution_count": 20,
   "metadata": {},
   "outputs": [],
   "source": [
    "def BoW(tensor, vocab_size, sequence_length):\n",
    "    bow = torch.zeros(size = (tensor.shape[0],vocab_size))\n",
    "    #BoW = [(data1[i] == num).sum().item()/data1.shape[1]  for i in range(data1.shape[0]) for num in data1[i] if BoW[i][torch.where(data1[i] == num)[0][0].item()]==0]\n",
    "\n",
    "    for i in range(tensor.shape[0]):\n",
    "        for num in tensor[i]:\n",
    "            bow[i][num] = (tensor[i] == num).sum().item()/sequence_length\n",
    "\n",
    "    return torch.FloatTensor(bow)"
   ]
  },
  {
   "cell_type": "code",
   "execution_count": 21,
   "metadata": {},
   "outputs": [],
   "source": [
    "def divide_text(text, sequence_length):\n",
    "    words = text.split()\n",
    "    #words = text\n",
    "    grouped_words = [' '.join(words[i:i+sequence_length]) for i in range(0,len(words),int(sequence_length))]  # range (0,len(words),8)\n",
    "    #grouped_words = [' '.join(words[i:i+sequence_length]) for i in range(0,len(words),2)]\n",
    "    #grouped_words = [words[i] for i in range(0,len(words),19)]\n",
    "    #grouped_words_2d = [sentence.split() for sentence in grouped_words]\n",
    "    output_text = [grouped_words[i].split() for i in range(len(grouped_words)) if len(grouped_words[i].split()) == sequence_length]\n",
    "    return output_text"
   ]
  },
  {
   "cell_type": "code",
   "execution_count": 21,
   "metadata": {},
   "outputs": [
    {
     "ename": "NameError",
     "evalue": "name 'text' is not defined",
     "output_type": "error",
     "traceback": [
      "\u001b[0;31m---------------------------------------------------------------------------\u001b[0m",
      "\u001b[0;31mNameError\u001b[0m                                 Traceback (most recent call last)",
      "\u001b[0;32m<ipython-input-21-da4200be72b2>\u001b[0m in \u001b[0;36m<module>\u001b[0;34m\u001b[0m\n\u001b[0;32m----> 1\u001b[0;31m \u001b[0mtext_divided\u001b[0m \u001b[0;34m=\u001b[0m \u001b[0mdivide_text\u001b[0m\u001b[0;34m(\u001b[0m\u001b[0mtext\u001b[0m\u001b[0;34m,\u001b[0m \u001b[0;36m19\u001b[0m\u001b[0;34m)\u001b[0m\u001b[0;34m\u001b[0m\u001b[0;34m\u001b[0m\u001b[0m\n\u001b[0m\u001b[1;32m      2\u001b[0m \u001b[0mnp\u001b[0m\u001b[0;34m.\u001b[0m\u001b[0mshape\u001b[0m\u001b[0;34m(\u001b[0m\u001b[0mtext_divided\u001b[0m\u001b[0;34m)\u001b[0m\u001b[0;34m\u001b[0m\u001b[0;34m\u001b[0m\u001b[0m\n\u001b[1;32m      3\u001b[0m \u001b[0mtext_divided\u001b[0m\u001b[0;34m[\u001b[0m\u001b[0;36m0\u001b[0m\u001b[0;34m]\u001b[0m\u001b[0;34m\u001b[0m\u001b[0;34m\u001b[0m\u001b[0m\n",
      "\u001b[0;31mNameError\u001b[0m: name 'text' is not defined"
     ]
    }
   ],
   "source": [
    "text_divided = divide_text(text, 19)\n",
    "np.shape(text_divided)\n",
    "text_divided[0]"
   ]
  },
  {
   "cell_type": "code",
   "execution_count": 24,
   "metadata": {},
   "outputs": [],
   "source": [
    "word2vec = Word2Vec(text_divided, vector_size = 300, window = 5, min_count=1, workers=4, epochs = 20)"
   ]
  },
  {
   "cell_type": "code",
   "execution_count": 25,
   "metadata": {},
   "outputs": [
    {
     "data": {
      "text/plain": [
       "50"
      ]
     },
     "execution_count": 25,
     "metadata": {},
     "output_type": "execute_result"
    }
   ],
   "source": [
    "word2vec.epochs"
   ]
  },
  {
   "cell_type": "code",
   "execution_count": 22,
   "metadata": {},
   "outputs": [],
   "source": [
    "def custom_dataset(file1 : str,file2 : str, sequence_length, embedding_dim, batch_size, training_fraction):\n",
    "\n",
    "    with open(file1, 'r', encoding='utf-8') as f:\n",
    "        text1 = f.read()\n",
    "\n",
    "\n",
    "    with open(file2, 'r', encoding='utf-8') as f:\n",
    "        text2 = f.read()\n",
    "\n",
    "    text1 = '<sos> ' + text1 \n",
    "    text = text1 + ' ' + text2\n",
    "    divided_text = divide_text(text, sequence_length)\n",
    "\n",
    "    #word2vec = Word2Vec(divided_text, vector_size = embedding_dim, window = int(sequence_length/2), min_count=1, workers=4)\n",
    "    word2vec = Word2Vec(divided_text, vector_size = embedding_dim, window = 5, min_count=1, workers=4, epochs = 50)\n",
    "    word2vec.train(divided_text, total_examples=word2vec.corpus_count, epochs=word2vec.epochs)\n",
    "\n",
    "    # Get the embedding dimension\n",
    "    embedding_dim = word2vec.wv.vector_size\n",
    "\n",
    "    # Prepare the embedding matrix\n",
    "    vocab_size = len(word2vec.wv)\n",
    "    embedding_matrix = np.zeros((vocab_size, embedding_dim))\n",
    "    word2idx = {word: idx for idx, word in enumerate(word2vec.wv.index_to_key)}\n",
    "    idx2word = {idx: word for idx, word in enumerate(word2vec.wv.index_to_key)}\n",
    "\n",
    "    for word, idx in word2idx.items():\n",
    "        embedding_matrix[idx] = word2vec.wv[word]\n",
    "\n",
    "    # Convert to PyTorch tensor\n",
    "    embedding_matrix = torch.tensor(embedding_matrix, dtype=torch.float32)\n",
    "\n",
    "\n",
    "\n",
    "    text1_divided = divide_text(text1, sequence_length)\n",
    "    data1 = torch.LongTensor([[word2idx[char] for char in text1_divided[i]] for i in range(len(text1_divided))])\n",
    "\n",
    "\n",
    "    text2_divided = divide_text(text2, sequence_length)\n",
    "    data2 = torch.LongTensor([[word2idx[char] for char in text2_divided[i]] for i in range(len(text2_divided))])\n",
    "\n",
    "\n",
    "    data1_train = data1[:int(training_fraction * data1.shape[0])]\n",
    "    data1_val = data1[int(training_fraction * data1.shape[0]):]\n",
    "\n",
    "    data2_train = data2[:int(training_fraction * data2.shape[0])]\n",
    "    data2_val = data2[int(training_fraction * data2.shape[0]):]\n",
    "\n",
    "\n",
    "    #label0_train = torch.zeros(data1_train.shape[0])\n",
    "    #label0_val = torch.zeros(data1_val.shape[0])\n",
    "    label0_train = torch.tensor([[1,0]]).repeat(data1_train.shape[0],1)\n",
    "    label0_val = torch.tensor([[1,0]]).repeat(data1_val.shape[0],1)\n",
    "\n",
    "    #label1_train = torch.ones(data2_train.shape[0])\n",
    "    #label1_val = torch.ones(data2_val.shape[0])\n",
    "    label1_train = torch.tensor([[0,1]]).repeat(data2_train.shape[0],1)\n",
    "    label1_val = torch.tensor([[0,1]]).repeat(data2_val.shape[0],1)\n",
    "\n",
    "\n",
    "    labels_train = torch.cat((label0_train, label1_train), dim = 0)\n",
    "    labels_val = torch.cat((label0_val, label1_val), dim = 0)\n",
    "\n",
    "    data_train = torch.cat((data1_train, data2_train), dim = 0)\n",
    "    data_val = torch.cat((data1_val, data2_val), dim = 0)\n",
    "\n",
    "    data_train = torch.LongTensor(data_train)\n",
    "    labels_train = labels_train.type(torch.LongTensor)\n",
    "    bow_train = BoW(data_train, vocab_size, sequence_length)\n",
    "\n",
    "    dataset_train = TensorDataset(data_train, bow_train, labels_train)\n",
    "\n",
    "    # Create a DataLoader with shuffling enabled\n",
    "    dataloader_train = DataLoader(dataset_train, batch_size = batch_size, shuffle=True)\n",
    "    #dataloader_train = DataLoader(dataset_train, batch_size = batch_size)\n",
    "\n",
    "\n",
    "    data_val = torch.LongTensor(data_val)\n",
    "    labels_val = labels_val.type(torch.LongTensor)\n",
    "    bow_val = BoW(data_val, vocab_size, sequence_length)\n",
    "\n",
    "    dataset_val = TensorDataset(data_val, bow_val, labels_val)\n",
    "\n",
    "    # Create a DataLoader with shuffling enabled\n",
    "    dataloader_val = DataLoader(dataset_val, batch_size = batch_size, shuffle = True)\n",
    "    #dataloader_val = DataLoader(dataset_val, batch_size = batch_size)\n",
    "\n",
    "\n",
    "    style0_val = torch.LongTensor(data1_val)\n",
    "    style1_val = torch.LongTensor(data2_val)\n",
    "\n",
    "    style0_train = torch.LongTensor(data1_train)\n",
    "    style1_train = torch.LongTensor(data2_train)\n",
    "    \n",
    "    return dataloader_train, dataloader_val, embedding_dim, embedding_matrix, word2vec, idx2word, word2idx, vocab_size, style0_val, style1_val, style0_train, style1_train"
   ]
  },
  {
   "cell_type": "code",
   "execution_count": 24,
   "metadata": {},
   "outputs": [],
   "source": [
    "sequence_length = 15\n",
    "embedding_dim = 300\n",
    "hidden_dim = 256\n",
    "latent_dim = 136\n",
    "style_dim = 8\n",
    "content_dim = int(latent_dim - style_dim)\n",
    "batch_size = 32"
   ]
  },
  {
   "cell_type": "code",
   "execution_count": 25,
   "metadata": {},
   "outputs": [
    {
     "name": "stdout",
     "output_type": "stream",
     "text": [
      "len train loader:  381\n",
      "len val loader:  43\n",
      "total number of training samples:  12190\n",
      "total number of validation samples:  1356\n",
      "vocab size:  20249\n"
     ]
    }
   ],
   "source": [
    "train_loader, val_loader, embedding_dim, embedding_matrix, word2vec, idx2word, word2idx, vocab_size, style0_val, style1_val, style0_train, style1_train = custom_dataset('divina_commedia.txt', \n",
    "                                                                                     'uno_nessuno_e_i_malavoglia.txt', \n",
    "                                                                                     sequence_length, \n",
    "                                                                                     embedding_dim,\n",
    "                                                                                     batch_size = batch_size, \n",
    "                                                                                     training_fraction = 0.9)\n",
    "print('len train loader: ', len(train_loader))\n",
    "print('len val loader: ', len(val_loader))\n",
    "print('total number of training samples: ', len(train_loader.dataset))\n",
    "print('total number of validation samples: ', len(val_loader.dataset))\n",
    "print('vocab size: ', vocab_size)"
   ]
  },
  {
   "cell_type": "code",
   "execution_count": 100,
   "metadata": {},
   "outputs": [
    {
     "name": "stdout",
     "output_type": "stream",
     "text": [
      "len train loader:  356\n"
     ]
    }
   ],
   "source": [
    "train_loader, val_loader, embedding_dim, embedding_matrix, word2vec, idx2word, word2idx, vocab_size, style0_val, style1_val = custom_dataset('divina_commedia.txt', \n",
    "                                                                                     'lo_cunto_de_li_cunti.txt', \n",
    "                                                                                     sequence_length, \n",
    "                                                                                     embedding_dim,\n",
    "                                                                                     batch_size = 32, \n",
    "                                                                                     training_fraction = 0.9)\n",
    "print('len train loader: ', len(train_loader))"
   ]
  },
  {
   "cell_type": "code",
   "execution_count": 38,
   "metadata": {},
   "outputs": [],
   "source": [
    "sos_token = torch.full((1,),word2idx['<sos>'])\n",
    "sos_token = sos_token.type(torch.LongTensor)"
   ]
  },
  {
   "cell_type": "code",
   "execution_count": 39,
   "metadata": {},
   "outputs": [],
   "source": [
    "vae = GRUVAE(embedding_matrix, hidden_dim, latent_dim, style_dim, content_dim, vocab_size, sos_token, num_layers = 1)\n",
    "\n",
    "style_classif = StyleClassifier(style_dim)\n",
    "adv_style_classif = AdvStyleClassifier(content_dim)\n",
    "content_classif = ContentClassifier(content_dim, vocab_size)\n",
    "adv_content_classif = AdvContentClassifier(style_dim, vocab_size)"
   ]
  },
  {
   "cell_type": "code",
   "execution_count": 40,
   "metadata": {},
   "outputs": [
    {
     "name": "stdout",
     "output_type": "stream",
     "text": [
      "Total parameters:  9610747\n"
     ]
    }
   ],
   "source": [
    "vae_params = sum(p.numel() for p in vae.parameters() if p.requires_grad)\n",
    "style_params = sum(p.numel() for p in style_classif.parameters() if p.requires_grad)\n",
    "style_adv_params = sum(p.numel() for p in adv_style_classif.parameters() if p.requires_grad)\n",
    "content_params = sum(p.numel() for p in content_classif.parameters() if p.requires_grad)\n",
    "adv_content_params = sum(p.numel() for p in adv_content_classif.parameters() if p.requires_grad)\n",
    "total_params =  vae_params + style_params + style_adv_params + content_params + adv_content_params\n",
    "print('Total parameters: ', total_params)"
   ]
  },
  {
   "cell_type": "code",
   "execution_count": 41,
   "metadata": {},
   "outputs": [
    {
     "name": "stderr",
     "output_type": "stream",
     "text": [
      "  5%|▌         | 1/20 [02:40<50:42, 160.13s/it]"
     ]
    },
    {
     "name": "stdout",
     "output_type": "stream",
     "text": [
      "====> Epoch: 1 Average train loss: 1.3055, Average val loss: 1.2474\n"
     ]
    },
    {
     "name": "stderr",
     "output_type": "stream",
     "text": [
      " 10%|█         | 2/20 [05:25<48:55, 163.06s/it]"
     ]
    },
    {
     "name": "stdout",
     "output_type": "stream",
     "text": [
      "====> Epoch: 2 Average train loss: 1.2001, Average val loss: 1.1952\n"
     ]
    },
    {
     "name": "stderr",
     "output_type": "stream",
     "text": [
      " 15%|█▌        | 3/20 [08:12<46:48, 165.18s/it]"
     ]
    },
    {
     "name": "stdout",
     "output_type": "stream",
     "text": [
      "====> Epoch: 3 Average train loss: 1.1377, Average val loss: 1.1406\n"
     ]
    },
    {
     "name": "stderr",
     "output_type": "stream",
     "text": [
      " 20%|██        | 4/20 [11:07<44:59, 168.72s/it]"
     ]
    },
    {
     "name": "stdout",
     "output_type": "stream",
     "text": [
      "====> Epoch: 4 Average train loss: 1.0828, Average val loss: 1.1004\n"
     ]
    },
    {
     "name": "stderr",
     "output_type": "stream",
     "text": [
      " 25%|██▌       | 5/20 [14:02<42:48, 171.21s/it]"
     ]
    },
    {
     "name": "stdout",
     "output_type": "stream",
     "text": [
      "====> Epoch: 5 Average train loss: 1.0459, Average val loss: 1.0802\n"
     ]
    },
    {
     "name": "stderr",
     "output_type": "stream",
     "text": [
      " 30%|███       | 6/20 [16:58<40:18, 172.74s/it]"
     ]
    },
    {
     "name": "stdout",
     "output_type": "stream",
     "text": [
      "====> Epoch: 6 Average train loss: 1.0216, Average val loss: 1.0621\n"
     ]
    },
    {
     "name": "stderr",
     "output_type": "stream",
     "text": [
      " 35%|███▌      | 7/20 [19:51<37:26, 172.77s/it]"
     ]
    },
    {
     "name": "stdout",
     "output_type": "stream",
     "text": [
      "====> Epoch: 7 Average train loss: 1.0026, Average val loss: 1.0534\n"
     ]
    },
    {
     "name": "stderr",
     "output_type": "stream",
     "text": [
      " 40%|████      | 8/20 [22:50<34:56, 174.70s/it]"
     ]
    },
    {
     "name": "stdout",
     "output_type": "stream",
     "text": [
      "====> Epoch: 8 Average train loss: 0.9890, Average val loss: 1.0465\n"
     ]
    },
    {
     "name": "stderr",
     "output_type": "stream",
     "text": [
      " 45%|████▌     | 9/20 [25:43<31:57, 174.32s/it]"
     ]
    },
    {
     "name": "stdout",
     "output_type": "stream",
     "text": [
      "====> Epoch: 9 Average train loss: 0.9756, Average val loss: 1.0388\n"
     ]
    },
    {
     "name": "stderr",
     "output_type": "stream",
     "text": [
      " 50%|█████     | 10/20 [28:47<29:31, 177.20s/it]"
     ]
    },
    {
     "name": "stdout",
     "output_type": "stream",
     "text": [
      "====> Epoch: 10 Average train loss: 0.9628, Average val loss: 1.0380\n"
     ]
    },
    {
     "name": "stderr",
     "output_type": "stream",
     "text": [
      " 55%|█████▌    | 11/20 [31:39<26:21, 175.70s/it]"
     ]
    },
    {
     "name": "stdout",
     "output_type": "stream",
     "text": [
      "====> Epoch: 11 Average train loss: 0.9535, Average val loss: 1.0253\n"
     ]
    },
    {
     "name": "stderr",
     "output_type": "stream",
     "text": [
      " 60%|██████    | 12/20 [34:31<23:17, 174.72s/it]"
     ]
    },
    {
     "name": "stdout",
     "output_type": "stream",
     "text": [
      "====> Epoch: 12 Average train loss: 0.9421, Average val loss: 1.0311\n"
     ]
    },
    {
     "name": "stderr",
     "output_type": "stream",
     "text": [
      " 65%|██████▌   | 13/20 [37:24<20:19, 174.16s/it]"
     ]
    },
    {
     "name": "stdout",
     "output_type": "stream",
     "text": [
      "====> Epoch: 13 Average train loss: 0.9316, Average val loss: 1.0211\n"
     ]
    },
    {
     "name": "stderr",
     "output_type": "stream",
     "text": [
      " 70%|███████   | 14/20 [40:15<17:19, 173.23s/it]"
     ]
    },
    {
     "name": "stdout",
     "output_type": "stream",
     "text": [
      "====> Epoch: 14 Average train loss: 0.9250, Average val loss: 1.0088\n"
     ]
    },
    {
     "name": "stderr",
     "output_type": "stream",
     "text": [
      " 75%|███████▌  | 15/20 [42:58<14:10, 170.07s/it]"
     ]
    },
    {
     "name": "stdout",
     "output_type": "stream",
     "text": [
      "====> Epoch: 15 Average train loss: 0.9141, Average val loss: 1.0122\n"
     ]
    },
    {
     "name": "stderr",
     "output_type": "stream",
     "text": [
      " 80%|████████  | 16/20 [45:53<11:26, 171.56s/it]"
     ]
    },
    {
     "name": "stdout",
     "output_type": "stream",
     "text": [
      "====> Epoch: 16 Average train loss: 0.9085, Average val loss: 1.0179\n"
     ]
    },
    {
     "name": "stderr",
     "output_type": "stream",
     "text": [
      " 85%|████████▌ | 17/20 [48:47<08:36, 172.17s/it]"
     ]
    },
    {
     "name": "stdout",
     "output_type": "stream",
     "text": [
      "====> Epoch: 17 Average train loss: 0.9001, Average val loss: 1.0057\n"
     ]
    },
    {
     "name": "stderr",
     "output_type": "stream",
     "text": [
      " 90%|█████████ | 18/20 [51:38<05:43, 171.86s/it]"
     ]
    },
    {
     "name": "stdout",
     "output_type": "stream",
     "text": [
      "====> Epoch: 18 Average train loss: 0.8939, Average val loss: 1.0143\n"
     ]
    },
    {
     "name": "stderr",
     "output_type": "stream",
     "text": [
      " 90%|█████████ | 18/20 [54:30<06:03, 181.68s/it]"
     ]
    },
    {
     "name": "stdout",
     "output_type": "stream",
     "text": [
      "====> Epoch: 19 Average train loss: 0.8886, Average val loss: 1.0149\n",
      "Early stopping\n",
      "\n"
     ]
    },
    {
     "name": "stderr",
     "output_type": "stream",
     "text": [
      "\n"
     ]
    },
    {
     "data": {
      "image/png": "[encoded data removed]",
      "text/plain": [
       "<Figure size 640x480 with 1 Axes>"
      ]
     },
     "metadata": {},
     "output_type": "display_data"
    }
   ],
   "source": [
    "losses = train_VAE(vae,\n",
    "                   style_classif,\n",
    "                   adv_style_classif,\n",
    "                   content_classif,\n",
    "                   adv_content_classif,\n",
    "                   train_loader,\n",
    "                   val_loader,\n",
    "                   num_epochs = 20,\n",
    "                   vocab_size= vocab_size,\n",
    "                   lr = 4e-4)"
   ]
  },
  {
   "cell_type": "code",
   "execution_count": 42,
   "metadata": {},
   "outputs": [],
   "source": [
    "torch.save(vae.state_dict(), 'lstm_vae_state_dict.pth')\n",
    "torch.save(style_classif.state_dict(), 'lstm_style_cl_state_dict.pth')"
   ]
  },
  {
   "cell_type": "code",
   "execution_count": null,
   "metadata": {},
   "outputs": [],
   "source": [
    "vae.load_state_dict(torch.load('lstm_vae_state_dict.pth'))\n",
    "style_classif.load_state_dict(torch.load('lstm_style_cl_state_dict.pth'))"
   ]
  },
  {
   "cell_type": "markdown",
   "metadata": {},
   "source": [
    "# Ricostruzione"
   ]
  },
  {
   "cell_type": "code",
   "execution_count": 43,
   "metadata": {},
   "outputs": [
    {
     "name": "stdout",
     "output_type": "stream",
     "text": [
      "tensor([1, 0])\n",
      "Stile reale:  Dante\n",
      "Stile predetto:  0 tensor([[9.9996e-01, 4.2985e-05]], grad_fn=<ViewBackward0>)\n",
      "Input sequence: \n",
      " lo piacere uman che rinovella seguendo il cielo sempre fu durabile opera naturale è ch\n",
      "\n",
      "Reconstructed sequence: \n",
      " allora duca e che la il lo sole l l sospesi a e dando tirando\n",
      "\n",
      "Reconstructed sequence 2: \n",
      " elli dì fiata maggior sciolta privo esce l vista d oltra era in altra è\n"
     ]
    }
   ],
   "source": [
    "for i ,(data,bow,label) in enumerate(val_loader):\n",
    "    if i == 0:\n",
    "        prova = data[0]\n",
    "        labels = label[0]\n",
    "        boww = bow[0]\n",
    "\n",
    "frase = [idx2word[prova[i].item()] for i in range(prova.shape[0])]\n",
    "\n",
    "prova = prova.view(1,prova.shape[0])\n",
    "\n",
    "with torch.no_grad():\n",
    "    reconstructed_sequence, style, content, mu_s, logvar_s, mu_c, logvar_c  = vae(prova)\n",
    "    reconstructed_sequence2 = vae.reconstruction(prova)\n",
    "\n",
    "#reconstructed_sequence = reconstructed_sequence.squeeze(0)\n",
    "#indices = torch.argmax(reconstructed_sequence, dim=-1).squeeze(0)\n",
    "#indices2 = torch.argmax(reconstructed_sequence2, dim=-1).squeeze(0)\n",
    "indices = torch.multinomial(F.softmax(reconstructed_sequence.squeeze(0),dim=-1), 1)\n",
    "indices2 = torch.multinomial(F.softmax(reconstructed_sequence2.squeeze(0),dim=-1), 1)\n",
    "\n",
    "ricostruzione = []\n",
    "for i in range(prova.shape[1]):\n",
    "    ricostruzione.append(idx2word[indices[i].item()])\n",
    "\n",
    "ricostruzione2 = []\n",
    "for i in range(prova.shape[1]):\n",
    "    ricostruzione2.append(idx2word[indices2[i].item()])\n",
    "\n",
    "\n",
    "if torch.argmax(labels).item() == 0.0:\n",
    "    stile = 'Dante'\n",
    "else: \n",
    "    stile = 'Italiano'\n",
    "\n",
    "style = style_classif(style)\n",
    "print(labels)\n",
    "print('Stile reale: ', stile)\n",
    "print('Stile predetto: ', torch.argmax(style).item(), style)\n",
    "print(\"Input sequence: \\n\", ' '.join(frase))\n",
    "print(\"\\nReconstructed sequence: \\n\", ' '.join(ricostruzione))\n",
    "print(\"\\nReconstructed sequence 2: \\n\", ' '.join(ricostruzione2))"
   ]
  },
  {
   "cell_type": "code",
   "execution_count": 76,
   "metadata": {},
   "outputs": [
    {
     "data": {
      "text/plain": [
       "32.98469852223156"
      ]
     },
     "execution_count": 76,
     "metadata": {},
     "output_type": "execute_result"
    }
   ],
   "source": [
    "probs = F.softmax(reconstructed_sequence2.squeeze(0),dim=-1)\n",
    "h = - (probs * torch.log(probs)).sum(dim=-1).mean()\n",
    "PPL = 2**h.item()\n",
    "PPL"
   ]
  },
  {
   "cell_type": "code",
   "execution_count": 44,
   "metadata": {},
   "outputs": [
    {
     "name": "stdout",
     "output_type": "stream",
     "text": [
      "Accuracy predicting Dante style:  0.9690265486725663\n"
     ]
    }
   ],
   "source": [
    "pred0_styles = []\n",
    "for n in range(len(style0_val)):\n",
    "    _, style, _, _, _, _, _ = vae(style0_val[n].view(1,style0_val.shape[1]))\n",
    "    pred_style = torch.argmax(style_classif(style))\n",
    "    pred0_styles.append(pred_style)\n",
    "\n",
    "print('Accuracy predicting Dante style: ', (len(pred0_styles)-np.count_nonzero(pred0_styles))/len(pred0_styles))"
   ]
  },
  {
   "cell_type": "code",
   "execution_count": 45,
   "metadata": {},
   "outputs": [
    {
     "name": "stdout",
     "output_type": "stream",
     "text": [
      "Accuracy predicting Italian style:  0.9941002949852508\n"
     ]
    }
   ],
   "source": [
    "pred1_styles = []\n",
    "for n in range(len(style1_val)):\n",
    "    _, style, _, _, _, _, _ = vae(style1_val[n].view(1,style1_val.shape[1]))\n",
    "    pred_style = torch.argmax(style_classif(style))\n",
    "    pred1_styles.append(pred_style)\n",
    "\n",
    "print('Accuracy predicting Italian style: ', np.count_nonzero(pred1_styles)/len(pred1_styles))"
   ]
  },
  {
   "cell_type": "markdown",
   "metadata": {},
   "source": [
    "# Style transfer"
   ]
  },
  {
   "cell_type": "code",
   "execution_count": 142,
   "metadata": {},
   "outputs": [],
   "source": [
    "style1_data = torch.cat((style1_train, style1_val), dim=0)\n",
    "style0_data = torch.cat((style0_train, style0_val), dim=0)"
   ]
  },
  {
   "cell_type": "code",
   "execution_count": 46,
   "metadata": {},
   "outputs": [],
   "source": [
    "with torch.no_grad():\n",
    "    reconstructed_sequence, style, content, mu_s, logvar_s, mu_c, logvar_c  = vae(style1_val)\n",
    "\n",
    "\n",
    "style1 = style.mean(dim=1).unsqueeze(1)"
   ]
  },
  {
   "cell_type": "code",
   "execution_count": 47,
   "metadata": {},
   "outputs": [],
   "source": [
    "with torch.no_grad():\n",
    "    reconstructed_sequence, style, content, mu_s, logvar_s, mu_c, logvar_c  = vae(style0_val)\n",
    "\n",
    "\n",
    "style0 = style.mean(dim=1).unsqueeze(1)"
   ]
  },
  {
   "cell_type": "code",
   "execution_count": 238,
   "metadata": {},
   "outputs": [],
   "source": [
    "frase = 'nel mezzo del cammin di nostra vita mi ritrovai per una selva oscura'\n",
    "frase = frase.split()\n",
    "frase = [word2idx[word] for word in frase]"
   ]
  },
  {
   "cell_type": "code",
   "execution_count": 81,
   "metadata": {},
   "outputs": [
    {
     "ename": "ValueError",
     "evalue": "too many dimensions 'str'",
     "output_type": "error",
     "traceback": [
      "\u001b[0;31m---------------------------------------------------------------------------\u001b[0m",
      "\u001b[0;31mValueError\u001b[0m                                Traceback (most recent call last)",
      "\u001b[0;32m<ipython-input-81-7c115f69212b>\u001b[0m in \u001b[0;36m<module>\u001b[0;34m\u001b[0m\n\u001b[0;32m----> 1\u001b[0;31m \u001b[0mfrase\u001b[0m \u001b[0;34m=\u001b[0m \u001b[0mtorch\u001b[0m\u001b[0;34m.\u001b[0m\u001b[0mLongTensor\u001b[0m\u001b[0;34m(\u001b[0m\u001b[0mfrase\u001b[0m\u001b[0;34m)\u001b[0m\u001b[0;34m\u001b[0m\u001b[0;34m\u001b[0m\u001b[0m\n\u001b[0m\u001b[1;32m      2\u001b[0m \u001b[0;32mwith\u001b[0m \u001b[0mtorch\u001b[0m\u001b[0;34m.\u001b[0m\u001b[0mno_grad\u001b[0m\u001b[0;34m(\u001b[0m\u001b[0;34m)\u001b[0m\u001b[0;34m:\u001b[0m\u001b[0;34m\u001b[0m\u001b[0;34m\u001b[0m\u001b[0m\n\u001b[1;32m      3\u001b[0m     \u001b[0mreconstructed_sequence\u001b[0m\u001b[0;34m,\u001b[0m \u001b[0mstyle\u001b[0m\u001b[0;34m,\u001b[0m \u001b[0mcontent\u001b[0m\u001b[0;34m,\u001b[0m \u001b[0mmu_s\u001b[0m\u001b[0;34m,\u001b[0m \u001b[0mlogvar_s\u001b[0m\u001b[0;34m,\u001b[0m \u001b[0mmu_c\u001b[0m\u001b[0;34m,\u001b[0m \u001b[0mlogvar_c\u001b[0m  \u001b[0;34m=\u001b[0m \u001b[0mvae\u001b[0m\u001b[0;34m(\u001b[0m\u001b[0mfrase\u001b[0m\u001b[0;34m.\u001b[0m\u001b[0munsqueeze\u001b[0m\u001b[0;34m(\u001b[0m\u001b[0;36m0\u001b[0m\u001b[0;34m)\u001b[0m\u001b[0;34m)\u001b[0m\u001b[0;34m\u001b[0m\u001b[0;34m\u001b[0m\u001b[0m\n\u001b[1;32m      4\u001b[0m     \u001b[0mreconstructed_sequence2\u001b[0m \u001b[0;34m=\u001b[0m \u001b[0mvae\u001b[0m\u001b[0;34m.\u001b[0m\u001b[0mreconstruction\u001b[0m\u001b[0;34m(\u001b[0m\u001b[0mfrase\u001b[0m\u001b[0;34m.\u001b[0m\u001b[0munsqueeze\u001b[0m\u001b[0;34m(\u001b[0m\u001b[0;36m0\u001b[0m\u001b[0;34m)\u001b[0m\u001b[0;34m)\u001b[0m\u001b[0;34m\u001b[0m\u001b[0;34m\u001b[0m\u001b[0m\n\u001b[1;32m      5\u001b[0m \u001b[0;34m\u001b[0m\u001b[0m\n",
      "\u001b[0;31mValueError\u001b[0m: too many dimensions 'str'"
     ]
    }
   ],
   "source": [
    "frase = torch.LongTensor(frase)\n",
    "with torch.no_grad():\n",
    "    reconstructed_sequence, style, content, mu_s, logvar_s, mu_c, logvar_c  = vae(frase.unsqueeze(0))\n",
    "    reconstructed_sequence2 = vae.reconstruction(frase.unsqueeze(0))\n",
    "\n",
    "#reconstructed_sequence = reconstructed_sequence.squeeze(0)\n",
    "#indices = torch.argmax(reconstructed_sequence, dim=-1).squeeze(0)\n",
    "#indices2 = torch.argmax(reconstructed_sequence2, dim=-1).squeeze(0)\n",
    "indices = torch.multinomial(F.softmax(reconstructed_sequence.squeeze(0),dim=-1), 1)\n",
    "indices2 = torch.multinomial(F.softmax(reconstructed_sequence2.squeeze(0),dim=-1), 1)\n",
    "\n",
    "ricostruzione = []\n",
    "for i in range(frase.shape[0]):\n",
    "    ricostruzione.append(idx2word[indices[i].item()])\n",
    "\n",
    "ricostruzione2 = []\n",
    "for i in range(frase.shape[0]):\n",
    "    ricostruzione2.append(idx2word[indices2[i].item()])\n",
    "\n",
    "print(\"\\nReconstructed sequence: \\n\", ' '.join(ricostruzione))\n",
    "print(\"\\nReconstructed sequence 2: \\n\", ' '.join(ricostruzione2))"
   ]
  },
  {
   "cell_type": "code",
   "execution_count": 64,
   "metadata": {},
   "outputs": [
    {
     "name": "stdout",
     "output_type": "stream",
     "text": [
      "From Dante to italian: \n",
      "\n",
      "Input sequence: \n",
      " cominciò queste parole sante la piaga che maria richiuse e unse quella ch\n",
      "\n",
      "Reconstructed sequence: \n",
      " chercuti e rote pur sue virtù prove là che lamenti or colei sdegnosa\n",
      "\n",
      "Transferred sequence: \n",
      " tien così punzelli sue ali lingua queste tante e queste le e fede\n"
     ]
    }
   ],
   "source": [
    "n = torch.randint(0,len(style0_val),[1]).item()\n",
    "\n",
    "with torch.no_grad():    \n",
    "    transfer_output = vae.style_transfer(style0_val[n].view(1,style0_val.shape[1]), style1)\n",
    "\n",
    "\n",
    "with torch.no_grad():\n",
    "    reconstructed, style, content, mu_s, logvar_s, mu_c, logvar_c  = vae(style0_val[n].view(1,style0_val.shape[1]))\n",
    "\n",
    "\n",
    "#recon_indices = torch.argmax(reconstructed,dim=2).squeeze(0)\n",
    "\n",
    "#transf_indices = torch.argmax(transfer_output, dim=2).squeeze(0)\n",
    "\n",
    "transf_indices = torch.multinomial(F.softmax(transfer_output.squeeze(0),dim=-1), 1)\n",
    "recon_indices = torch.multinomial(F.softmax(reconstructed.squeeze(0),dim=-1), 1)\n",
    "\n",
    "frase_trasferita = []\n",
    "\n",
    "for i in range(transfer_output.shape[1]):\n",
    "    frase_trasferita.append(idx2word[transf_indices[i].item()])\n",
    "\n",
    "ricostruita = []\n",
    "for i in range(reconstructed.shape[1]):\n",
    "    ricostruita.append(idx2word[recon_indices[i].item()])\n",
    "\n",
    "frase = [idx2word[style0_val[n][i].item()] for i in range(style0_val.shape[1])]\n",
    "\n",
    "\n",
    "print(\"From Dante to italian: \\n\")\n",
    "print(\"Input sequence: \\n\", ' '.join(frase))\n",
    "print(\"\\nReconstructed sequence: \\n\", ' '.join(ricostruita))\n",
    "print(\"\\nTransferred sequence: \\n\", ' '.join(frase_trasferita))"
   ]
  },
  {
   "cell_type": "code",
   "execution_count": 63,
   "metadata": {},
   "outputs": [
    {
     "data": {
      "text/plain": [
       "torch.Size([13])"
      ]
     },
     "execution_count": 63,
     "metadata": {},
     "output_type": "execute_result"
    }
   ],
   "source": [
    "transf_indices.shape"
   ]
  },
  {
   "cell_type": "code",
   "execution_count": 48,
   "metadata": {},
   "outputs": [
    {
     "name": "stdout",
     "output_type": "stream",
     "text": [
      "STA Dante to Italian:  0.976401179941003\n",
      "Average Perplexity:  135.85374\n",
      "Average Word Overlap:  0.03719054481644426\n"
     ]
    }
   ],
   "source": [
    "tst0_accuracy = []\n",
    "perplexity01 = []\n",
    "wo01 = []\n",
    "for n in range(len(style0_val)):\n",
    "    with torch.no_grad():    \n",
    "        transfer_output = vae.TST(style0_val[n].unsqueeze(0), style1)\n",
    "        #transfer_output = vae.reconstruction(style0_val[n].unsqueeze(0))\n",
    "        transf_indices = torch.multinomial(F.softmax(transfer_output.squeeze(0),dim=-1), 1)\n",
    "        #transf_indices = torch.argmax(transfer_output, dim=2)\n",
    "        transf_indices = transf_indices.permute(1,0)\n",
    "        pred_style = torch.argmax(CNN_classif(transf_indices), dim=-1)\n",
    "        tst0_accuracy.append(pred_style.item())\n",
    "\n",
    "        probs = F.softmax(transfer_output.squeeze(0),dim=-1)\n",
    "        perplexity = 0\n",
    "        for i in range(transfer_output.shape[1]):\n",
    "            perplexity += torch.log(probs[i][transf_indices[0][i]])\n",
    "\n",
    "        perplexity = torch.exp(- perplexity/sequence_length)\n",
    "        perplexity01.append(perplexity)\n",
    "        '''h = - (probs * torch.log(probs)).sum(dim=-1).mean()\n",
    "        PPL = torch.exp(h)\n",
    "        perplexity01.append(PPL.item())'''\n",
    "\n",
    "        x = set(style0_val[n].detach().numpy())\n",
    "        y = set(transf_indices.flatten().detach().numpy())\n",
    "        union = x.union(y)\n",
    "        intersection = x.intersection(y)\n",
    "        wo01.append(len(list(intersection))/len(list(union)))\n",
    "\n",
    "\n",
    "accuracy_dan_to_it = np.count_nonzero(tst0_accuracy)/len(tst0_accuracy)\n",
    "PPL01 = np.mean(perplexity01)\n",
    "WO01 = np.mean(wo01)\n",
    "print('STA Dante to Italian: ', accuracy_dan_to_it)\n",
    "print('Average Perplexity: ', PPL01)\n",
    "print('Average Word Overlap: ', WO01)"
   ]
  },
  {
   "cell_type": "code",
   "execution_count": 49,
   "metadata": {},
   "outputs": [
    {
     "name": "stdout",
     "output_type": "stream",
     "text": [
      "STA Italian to Dante:  0.967551622418879\n",
      "Average Perplexity:  327.7607\n",
      "Average Word Overlap:  0.02355720394653362\n"
     ]
    }
   ],
   "source": [
    "tst1_accuracy = []\n",
    "perplexity10 = []\n",
    "wo10 = []\n",
    "for n in range(len(style1_val)):\n",
    "    with torch.no_grad():    \n",
    "        transfer_output = vae.TST(style1_val[n].unsqueeze(0), style0)\n",
    "        #transfer_output = vae.reconstruction(style1_val[n].unsqueeze(0))\n",
    "        transf_indices = torch.multinomial(F.softmax(transfer_output.squeeze(0),dim=-1), 1)\n",
    "        #transf_indices = torch.argmax(transfer_output, dim=2)\n",
    "        transf_indices = transf_indices.permute(1,0)\n",
    "        pred_style = torch.argmax(CNN_classif(transf_indices), dim=-1)\n",
    "        tst1_accuracy.append(pred_style.item())\n",
    "\n",
    "        probs = F.softmax(transfer_output.squeeze(0),dim=-1)\n",
    "        perplexity = 0\n",
    "        for i in range(transfer_output.shape[1]):\n",
    "            perplexity += torch.log(probs[i][transf_indices[0][i]])\n",
    "\n",
    "        perplexity = torch.exp(- perplexity/sequence_length)\n",
    "        perplexity10.append(perplexity)\n",
    "\n",
    "        '''h = - (probs * torch.log(probs)).sum(dim=-1).mean()\n",
    "        PPL = torch.exp(h)\n",
    "        perplexity10.append(PPL.item())'''\n",
    "\n",
    "        x = set(style1_val[n].detach().numpy())\n",
    "        y = set(transf_indices.flatten().detach().numpy())\n",
    "        union = x.union(y)\n",
    "        intersection = x.intersection(y)\n",
    "        wo10.append(len(list(intersection))/len(list(union)))\n",
    "\n",
    "\n",
    "accuracy_it_to_dan = (len(style1_val)-np.count_nonzero(tst1_accuracy))/len(tst1_accuracy)\n",
    "PPL10 = np.mean(perplexity10)\n",
    "WO10 = np.mean(wo10)\n",
    "print('STA Italian to Dante: ', accuracy_it_to_dan)\n",
    "print('Average Perplexity: ', PPL10)\n",
    "print('Average Word Overlap: ', WO10)"
   ]
  },
  {
   "cell_type": "code",
   "execution_count": 50,
   "metadata": {},
   "outputs": [
    {
     "name": "stdout",
     "output_type": "stream",
     "text": [
      "Overall STA:  0.971976401179941\n",
      "Overall Perplexity:  231.80722045898438\n",
      "Overall Word Overlap:  0.03037387438148894\n"
     ]
    }
   ],
   "source": [
    "print('Overall STA: ', (accuracy_dan_to_it + accuracy_it_to_dan)/2)\n",
    "print('Overall Perplexity: ', (PPL01 + PPL10)/2)\n",
    "print('Overall Word Overlap: ', (WO01 + WO10)/2)"
   ]
  },
  {
   "cell_type": "code",
   "execution_count": 179,
   "metadata": {},
   "outputs": [
    {
     "data": {
      "text/plain": [
       "0.8326771653543307"
      ]
     },
     "execution_count": 179,
     "metadata": {},
     "output_type": "execute_result"
    }
   ],
   "source": [
    "(np.count_nonzero(tst0_accuracy)+len(style1_val)-np.count_nonzero(tst1_accuracy))/(len(tst0_accuracy)+len(tst1_accuracy))"
   ]
  },
  {
   "cell_type": "code",
   "execution_count": 97,
   "metadata": {},
   "outputs": [
    {
     "name": "stdout",
     "output_type": "stream",
     "text": [
      "From italin to Dante: \n",
      "\n",
      "Input sequence: \n",
      " che andava e veniva per niente e faceva il viaggio del sale e\n",
      "\n",
      "Reconstructed sequence: \n",
      " non voleva ad tutta alla tutti cinghialenta maritati lì dannosa colla mondo nostri\n",
      "\n",
      "Transferred sequence: \n",
      " sempre ci borbottando frigido le la altrimenti perchè da corsa avvertirvi lavorato dal\n"
     ]
    }
   ],
   "source": [
    "n = torch.randint(0,len(style1_val),[1]).item()\n",
    "\n",
    "with torch.no_grad():    \n",
    "    transfer_output = vae.style_transfer(style1_val[n].view(1,style1_val.shape[1]), style0)\n",
    "\n",
    "\n",
    "with torch.no_grad():\n",
    "    reconstructed, style, content, mu_s, logvar_s, mu_c, logvar_c  = vae(style1_val[n].view(1,style1_val.shape[1]))\n",
    "\n",
    "\n",
    "#index = torch.argmax(reconstructed,dim=2)\n",
    "\n",
    "#indices = torch.argmax(transfer_output, dim=2)\n",
    "\n",
    "transf_indices = torch.multinomial(F.softmax(transfer_output.squeeze(0),dim=-1), 1)\n",
    "recon_indices = torch.multinomial(F.softmax(reconstructed.squeeze(0),dim=-1), 1)\n",
    "\n",
    "frase_trasferita = []\n",
    "\n",
    "for i in range(transfer_output.shape[1]):\n",
    "    frase_trasferita.append(idx2word[transf_indices[i].item()])\n",
    "\n",
    "ricostruita = []\n",
    "for i in range(transfer_output.shape[1]):\n",
    "    ricostruita.append(idx2word[recon_indices[i].item()])\n",
    "\n",
    "frase = [idx2word[style1_val[n][i].item()] for i in range(style1_val.shape[1])]\n",
    "\n",
    "\n",
    "print(\"From italin to Dante: \\n\")\n",
    "print(\"Input sequence: \\n\", ' '.join(frase))\n",
    "print(\"\\nReconstructed sequence: \\n\", ' '.join(ricostruita))\n",
    "print(\"\\nTransferred sequence: \\n\", ' '.join(frase_trasferita))"
   ]
  },
  {
   "cell_type": "code",
   "execution_count": 31,
   "metadata": {},
   "outputs": [],
   "source": [
    "class CNNClassifier(nn.Module):\n",
    "    def __init__(self, embedding_matrix, num_classes, sequence_length, num_filters, kernel_sizes):\n",
    "        super(CNNClassifier, self).__init__()\n",
    "        self.embedding_dim = embedding_matrix.shape[1]\n",
    "\n",
    "        self.embedding = nn.Embedding.from_pretrained(embedding_matrix, freeze = True)\n",
    "        self.conv_layers = nn.ModuleList([nn.Conv2d(1, num_filters, (k, self.embedding_dim)) for k in kernel_sizes])\n",
    "        self.fc = nn.Linear(num_filters * len(kernel_sizes), num_classes)\n",
    "        \n",
    "    def forward(self,x):\n",
    "        x = self.embedding(x)\n",
    "        x = x.unsqueeze(1)\n",
    "        conv_results = [F.relu(conv(x)).squeeze(3) for conv in self.conv_layers]\n",
    "        pooled = [F.max_pool1d(conv, conv.shape[2]).squeeze(2) for conv in conv_results]\n",
    "        cat = torch.cat(pooled, dim = 1)\n",
    "        out = self.fc(cat)\n",
    "        return F.softmax(out, dim=-1)"
   ]
  },
  {
   "cell_type": "code",
   "execution_count": 32,
   "metadata": {},
   "outputs": [],
   "source": [
    "def CNN_loss(y_s, labels, loss_fn=nn.BCELoss()):\n",
    "    L_mul_s = loss_fn(y_s, labels)\n",
    "\n",
    "    return L_mul_s"
   ]
  },
  {
   "cell_type": "code",
   "execution_count": 33,
   "metadata": {},
   "outputs": [],
   "source": [
    "def train_CNN(style_classif, train_loader, val_loader, num_epochs, lr = 4e-4):\n",
    "    params = list(style_classif.parameters())\n",
    "\n",
    "    optimizer = torch.optim.Adam(params, lr = lr)\n",
    "\n",
    "    average_losses = []\n",
    "    val_losses = []\n",
    "    \n",
    "    for epoch in tqdm(range(num_epochs)):\n",
    "        train_loss = 0.0\n",
    "        average_loss = 0.0\n",
    "        val_loss = 0.0\n",
    "        average_val_loss = 0.0\n",
    "        \n",
    "        #model.train()\n",
    "        for  i, (data, bow, labels) in enumerate(train_loader):\n",
    "            data = data.to(device)\n",
    "            labels = labels.type(torch.FloatTensor)\n",
    "\n",
    "            optimizer.zero_grad()\n",
    "\n",
    "\n",
    "            pred_style = style_classif(data)\n",
    "            \n",
    "            #data = data.type(torch.FloatTensor)\n",
    "            loss_tot = CNN_loss(pred_style, labels)\n",
    "            loss_tot.backward()\n",
    "            train_loss += loss_tot.item()\n",
    "\n",
    "\n",
    "            optimizer.step()\n",
    "            \n",
    "            if (i + 1) % 5000 == 0:\n",
    "                print(f'Train Epoch: {epoch+1} [{i * len(data)}/{len(train_loader.dataset)} ({100. * i / len(train_loader):.0f}%)]\\tLoss: {loss_tot.item() / len(data):.6f}')\n",
    "        \n",
    "        \n",
    "        average_loss = train_loss / len(train_loader.dataset)\n",
    "        #plt.plot(epoch+1,average_loss)\n",
    "        print(f'====> Epoch: {epoch+1} Average loss: {average_loss:.4f}')\n",
    "        average_losses.append(average_loss)\n",
    "\n",
    "        with torch.no_grad():\n",
    "            for i, (data, bow, labels) in enumerate(val_loader):\n",
    "                data = data.to(device)\n",
    "                labels = labels.type(torch.FloatTensor)\n",
    "                \n",
    "\n",
    "                pred_style = style_classif(data)\n",
    "\n",
    "                \n",
    "                #data = data.type(torch.FloatTensor)\n",
    "                val_loss_tot = CNN_loss(pred_style, labels)\n",
    "                val_loss += val_loss_tot.item()\n",
    "\n",
    "\n",
    "                \n",
    "                if (i + 1) % 5000 == 0:\n",
    "                    print(f'Train Epoch: {epoch+1} [{i * len(data)}/{len(val_loader.dataset)} ({100. * i / len(val_loader):.0f}%)]\\tLoss: {val_loss_tot.item() / len(data):.6f}')\n",
    "            \n",
    "            \n",
    "        average_val_loss = val_loss / len(val_loader.dataset)\n",
    "        #print(f'====> Epoch: {epoch+1} Average loss: {average_val_loss:.4f}')\n",
    "        val_losses.append(average_val_loss)\n",
    "\n",
    "    \n",
    "    plt.plot(np.linspace(1,num_epochs,len(average_losses)), average_losses, c = 'darkcyan',label = 'train')\n",
    "    plt.plot(np.linspace(1,num_epochs,len(val_losses)), val_losses, c = 'orange',label = 'val')\n",
    "    plt.legend()\n",
    "    plt.xlabel(\"Epochs\")\n",
    "    plt.ylabel(\"Loss\")\n",
    "    plt.show()\n",
    "    return average_losses"
   ]
  },
  {
   "cell_type": "code",
   "execution_count": 34,
   "metadata": {},
   "outputs": [],
   "source": [
    "CNN_classif = CNNClassifier(embedding_matrix, 2, sequence_length, 3, [3,3,3])"
   ]
  },
  {
   "cell_type": "code",
   "execution_count": 35,
   "metadata": {},
   "outputs": [
    {
     "name": "stdout",
     "output_type": "stream",
     "text": [
      "Total parameters:  8129\n"
     ]
    }
   ],
   "source": [
    "style_params = sum(p.numel() for p in CNN_classif.parameters() if p.requires_grad)\n",
    "print('Total parameters: ', style_params)"
   ]
  },
  {
   "cell_type": "code",
   "execution_count": 36,
   "metadata": {},
   "outputs": [
    {
     "name": "stderr",
     "output_type": "stream",
     "text": [
      " 25%|██▌       | 1/4 [00:02<00:06,  2.22s/it]"
     ]
    },
    {
     "name": "stdout",
     "output_type": "stream",
     "text": [
      "====> Epoch: 1 Average loss: 0.0041\n"
     ]
    },
    {
     "name": "stderr",
     "output_type": "stream",
     "text": [
      " 50%|█████     | 2/4 [00:03<00:03,  1.93s/it]"
     ]
    },
    {
     "name": "stdout",
     "output_type": "stream",
     "text": [
      "====> Epoch: 2 Average loss: 0.0020\n"
     ]
    },
    {
     "name": "stderr",
     "output_type": "stream",
     "text": [
      " 75%|███████▌  | 3/4 [00:05<00:01,  1.86s/it]"
     ]
    },
    {
     "name": "stdout",
     "output_type": "stream",
     "text": [
      "====> Epoch: 3 Average loss: 0.0014\n"
     ]
    },
    {
     "name": "stderr",
     "output_type": "stream",
     "text": [
      "100%|██████████| 4/4 [00:07<00:00,  1.87s/it]"
     ]
    },
    {
     "name": "stdout",
     "output_type": "stream",
     "text": [
      "====> Epoch: 4 Average loss: 0.0009\n"
     ]
    },
    {
     "name": "stderr",
     "output_type": "stream",
     "text": [
      "\n"
     ]
    },
    {
     "data": {
      "image/png": "[encoded data removed]",
      "text/plain": [
       "<Figure size 640x480 with 1 Axes>"
      ]
     },
     "metadata": {},
     "output_type": "display_data"
    }
   ],
   "source": [
    "CNN_losses = train_CNN(CNN_classif,\n",
    "                   train_loader,\n",
    "                   val_loader,\n",
    "                   num_epochs = 4,\n",
    "                   lr = 1e-3)"
   ]
  },
  {
   "cell_type": "code",
   "execution_count": 37,
   "metadata": {},
   "outputs": [
    {
     "name": "stdout",
     "output_type": "stream",
     "text": [
      "Accuracy : 0.9709302317351103 %\n"
     ]
    }
   ],
   "source": [
    "wrong = 0.0\n",
    "wrongy = []\n",
    "with torch.no_grad():\n",
    "    for i, (data, _, labels) in enumerate(val_loader):\n",
    "        pred_style = torch.argmax(CNN_classif(data), dim=-1)\n",
    "        label = torch.argmax(labels,dim=-1)\n",
    "        wrong += torch.count_nonzero(label - pred_style)\n",
    "        \n",
    "print('Accuracy :', 1 - (wrong/(len(val_loader)*batch_size)).item(), '%')"
   ]
  },
  {
   "cell_type": "code",
   "execution_count": 100,
   "metadata": {},
   "outputs": [],
   "source": [
    "transf_indices = transf_indices.permute(1,0)"
   ]
  },
  {
   "cell_type": "code",
   "execution_count": 101,
   "metadata": {},
   "outputs": [],
   "source": [
    "with torch.no_grad():\n",
    "    pred_style = torch.argmax(CNN_classif(transf_indices), dim=-1)"
   ]
  },
  {
   "cell_type": "code",
   "execution_count": 102,
   "metadata": {},
   "outputs": [
    {
     "data": {
      "text/plain": [
       "tensor([0])"
      ]
     },
     "execution_count": 102,
     "metadata": {},
     "output_type": "execute_result"
    }
   ],
   "source": [
    "pred_style"
   ]
  },
  {
   "cell_type": "code",
   "execution_count": null,
   "metadata": {},
   "outputs": [],
   "source": []
  }
 ],
 "metadata": {
  "kernelspec": {
   "display_name": "ox",
   "language": "python",
   "name": "python3"
  },
  "language_info": {
   "codemirror_mode": {
    "name": "ipython",
    "version": 3
   },
   "file_extension": ".py",
   "mimetype": "text/x-python",
   "name": "python",
   "nbconvert_exporter": "python",
   "pygments_lexer": "ipython3",
   "version": "3.8.10"
  }
 },
 "nbformat": 4,
 "nbformat_minor": 2
}
