{
 "cells": [
  {
   "cell_type": "code",
   "execution_count": 1,
   "metadata": {},
   "outputs": [],
   "source": [
    "import numpy as np\n",
    "from tqdm import tqdm\n",
    "import matplotlib.pyplot as plt\n",
    "import torch\n",
    "import torch.nn as nn\n",
    "from torch.nn import functional as F\n",
    "from torch.utils.data import DataLoader,TensorDataset\n",
    "from gensim.models import Word2Vec"
   ]
  },
  {
   "cell_type": "code",
   "execution_count": 2,
   "metadata": {},
   "outputs": [],
   "source": [
    "device = torch.device(\"cuda\" if torch.cuda.is_available() else \"cpu\")"
   ]
  },
  {
   "cell_type": "code",
   "execution_count": 56,
   "metadata": {},
   "outputs": [],
   "source": [
    "class GRUVAE(nn.Module):\n",
    "    def __init__(self, embedding_matrix, hidden_dim, latent_dim, vocab_size, sos_token, num_layers):\n",
    "        super(GRUVAE, self).__init__()\n",
    "\n",
    "        self.embedding_dim = embedding_matrix.shape[1]\n",
    "        self.sos_token = sos_token\n",
    "\n",
    "        self.embedding = nn.Embedding.from_pretrained(embedding_matrix, freeze = True)\n",
    "        self.layer_norm = nn.LayerNorm(self.embedding_dim)\n",
    "        self.encoder_style = nn.GRU(self.embedding_dim, hidden_dim, num_layers, batch_first=True) # (N,B,H) N batches, B sequence length, H input dim\n",
    "        self.encoder_content = nn.GRU(self.embedding_dim, hidden_dim, num_layers, batch_first=True)\n",
    "        self.fcmu_s = nn.Linear(hidden_dim, 8)\n",
    "        self.fcvar_s = nn.Linear(hidden_dim, 8)\n",
    "        self.fcmu_c = nn.Linear(hidden_dim, 128)\n",
    "        self.fcvar_c = nn.Linear(hidden_dim, 128)\n",
    "\n",
    "        self.fc_s = nn.Linear(hidden_dim, 8)\n",
    "        self.fc_c = nn.Linear(hidden_dim, 128)\n",
    "        self.fclatent = nn.Linear(hidden_dim, latent_dim)\n",
    "\n",
    "        self.fc = nn.Linear(latent_dim, hidden_dim)\n",
    "        self.decoder = nn.GRU(self.embedding_dim, latent_dim, num_layers,batch_first=True)\n",
    "        self.fc_out = nn.Linear(latent_dim, vocab_size)\n",
    "\n",
    "    def forward(self, x):\n",
    "        embedded_input = self.embedding(x)\n",
    "        #out = self.layer_norm(embedded_input)\n",
    "        _, hn = self.encoder_style(embedded_input)\n",
    "        #_, hn_c = self.encoder_content(out)\n",
    "        mu_s = self.fcmu_s(hn)\n",
    "        logvar_s = self.fcvar_s(hn)\n",
    "        mu_c = self.fcmu_c(hn)\n",
    "        logvar_c = self.fcvar_c(hn)\n",
    "\n",
    "        style = self.reparametrization(mu_s, logvar_s)\n",
    "        content = self.reparametrization(mu_c, logvar_c)\n",
    "        z = torch.cat((style,content), dim = 2)\n",
    "\n",
    "        sos_token = self.sos_token.repeat(x.size(0),1)\n",
    "        sos_token = self.embedding(sos_token)\n",
    "        decoder_input = torch.cat((sos_token, embedded_input), dim = 1)\n",
    "\n",
    "        output = []\n",
    "        for t in range(decoder_input.shape[1]):\n",
    "            outputs, _ = self.decoder(decoder_input[:,t,:].unsqueeze(1), z)\n",
    "            output.append(outputs)\n",
    "        \n",
    "        reconstructed_sequence = torch.cat(output, dim=1)\n",
    "        reconstructed_sequence = self.fc_out(reconstructed_sequence)\n",
    "\n",
    "        return reconstructed_sequence[:,1:,:], style, content, mu_s, logvar_s, mu_c, logvar_c\n",
    "\n",
    "\n",
    "    def reparametrization(self, mu, log_var):\n",
    "        std = torch.exp(0.5*log_var)\n",
    "        eps = torch.randn_like(std)\n",
    "        return mu + eps*std\n",
    "    \n",
    "    def style_transfer(self, x, new_style):\n",
    "        embedded_input = self.embedding(x)\n",
    "        #out = self.layer_norm(embedded_input)\n",
    "        _, hn = self.encoder_style(embedded_input)\n",
    "\n",
    "        mu_c = self.fcmu_c(hn)\n",
    "        log_var_c = self.fcvar_c(hn)\n",
    "\n",
    "        content = self.reparametrization(mu_c,log_var_c)\n",
    "\n",
    "        z = torch.cat((new_style,content), dim = 2)\n",
    "\n",
    "        sos_token = self.sos_token.repeat(x.size(0),1)\n",
    "        sos_token = self.embedding(sos_token)\n",
    "        decoder_input = torch.cat((sos_token, embedded_input), dim = 1)\n",
    "\n",
    "        output = []\n",
    "        for t in range(decoder_input.shape[1]):\n",
    "            outputs, _ = self.decoder(decoder_input[:,t,:].unsqueeze(1), z)\n",
    "            output.append(outputs)\n",
    "        \n",
    "        reconstructed_sequence = torch.cat(output, dim=1)\n",
    "        reconstructed_sequence = self.fc_out(reconstructed_sequence)\n",
    "\n",
    "        return reconstructed_sequence[:,1:,:]"
   ]
  },
  {
   "cell_type": "code",
   "execution_count": 4,
   "metadata": {},
   "outputs": [],
   "source": [
    "class StyleClassifier(nn.Module):\n",
    "    def __init__(self, input_dim):\n",
    "        super(StyleClassifier, self).__init__()\n",
    "        self.input_dim = input_dim\n",
    "        self.mlp = nn.Sequential(nn.Linear(input_dim,int(input_dim*0.5)),\n",
    "                                  nn.ReLU(),\n",
    "                                  nn.Linear(int(input_dim*0.5),1))\n",
    "        \n",
    "    def forward(self,x):\n",
    "        out = self.mlp(x)\n",
    "        out = torch.sigmoid(out)\n",
    "        return out.view(out.shape[1])"
   ]
  },
  {
   "cell_type": "code",
   "execution_count": 5,
   "metadata": {},
   "outputs": [],
   "source": [
    "class AdvStyleClassifier(nn.Module):\n",
    "    def __init__(self, input_dim):\n",
    "        super(AdvStyleClassifier, self).__init__()\n",
    "        self.input_dim = input_dim\n",
    "        self.mlp = nn.Sequential(nn.Linear(input_dim,int(input_dim*0.5)),\n",
    "                                  nn.ReLU(),\n",
    "                                  nn.Linear(int(input_dim*0.5),1))\n",
    "        \n",
    "    def forward(self,x):\n",
    "        out = self.mlp(x)\n",
    "        out = torch.sigmoid(out)\n",
    "        return out.view(out.shape[1])"
   ]
  },
  {
   "cell_type": "code",
   "execution_count": 6,
   "metadata": {},
   "outputs": [],
   "source": [
    "class ContentClassifier(nn.Module):\n",
    "    def __init__(self, input_dim, vocab_size):\n",
    "        super(ContentClassifier, self).__init__()\n",
    "        self.input_dim = input_dim\n",
    "        self.vocab_size = vocab_size\n",
    "        self.fc = nn.Linear(input_dim,vocab_size)\n",
    "        \n",
    "    def forward(self,x):\n",
    "        out = self.fc(x)\n",
    "        out = F.softmax(out,dim=2)\n",
    "        return out.squeeze(0)"
   ]
  },
  {
   "cell_type": "code",
   "execution_count": 7,
   "metadata": {},
   "outputs": [],
   "source": [
    "class AdvContentClassifier(nn.Module):\n",
    "    def __init__(self, input_dim, vocab_size):\n",
    "        super(AdvContentClassifier, self).__init__()\n",
    "        self.input_dim = input_dim\n",
    "        self.vocab_size = vocab_size\n",
    "        self.fc = nn.Linear(input_dim,vocab_size)\n",
    "        \n",
    "    def forward(self,x):\n",
    "        out = self.fc(x)\n",
    "        out = F.softmax(out,dim=2)\n",
    "        return out.squeeze(0)"
   ]
  },
  {
   "cell_type": "markdown",
   "metadata": {},
   "source": [
    "# Train function"
   ]
  },
  {
   "cell_type": "code",
   "execution_count": 10,
   "metadata": {},
   "outputs": [],
   "source": [
    "def vae_loss(recon_x, x, mu_s, logvar_s, mu_c, logvar_c, l_s = 0.05, l_c = 0.05, loss_fn = nn.MSELoss(), cos = nn.CosineSimilarity(), CE = nn.CrossEntropyLoss()):\n",
    "    #BCE = loss_fn(recon_x, x)\n",
    "    #BCE = 1 - cos(recon_x,x).mean()\n",
    "    BCE = CE(recon_x.reshape((recon_x.size(0)*recon_x.size(1),recon_x.size(2))),x.view(-1))\n",
    "    KLD_s = -0.5 * torch.sum(1 + logvar_s - mu_s.pow(2) - logvar_s.exp())\n",
    "    KLD_c = -0.5 * torch.sum(1 + logvar_c - mu_c.pow(2) - logvar_c.exp())\n",
    "    return 0.8*BCE + l_s*KLD_s + l_c*KLD_c"
   ]
  },
  {
   "cell_type": "code",
   "execution_count": 11,
   "metadata": {},
   "outputs": [],
   "source": [
    "def mul_s_loss(y_s, labels, loss_fn=nn.BCELoss()):\n",
    "    L_mul_s = loss_fn(y_s, labels)\n",
    "\n",
    "    return L_mul_s"
   ]
  },
  {
   "cell_type": "code",
   "execution_count": 12,
   "metadata": {},
   "outputs": [],
   "source": [
    "def mul_c_loss(y_c, bow, loss_fn=nn.BCELoss()):\n",
    "    L_mul_c = loss_fn(y_c, bow)\n",
    "\n",
    "    return L_mul_c"
   ]
  },
  {
   "cell_type": "code",
   "execution_count": 13,
   "metadata": {},
   "outputs": [],
   "source": [
    "def dis_s_loss(y_s, labels, loss_fn=nn.BCELoss()):\n",
    "    L_dis_s = loss_fn(y_s, labels)\n",
    "\n",
    "    return L_dis_s"
   ]
  },
  {
   "cell_type": "code",
   "execution_count": 14,
   "metadata": {},
   "outputs": [],
   "source": [
    "def dis_c_loss(y_c, bow, loss_fn=nn.BCELoss()):\n",
    "    L_dis_c = loss_fn(y_c, bow)\n",
    "\n",
    "    return L_dis_c"
   ]
  },
  {
   "cell_type": "code",
   "execution_count": 15,
   "metadata": {},
   "outputs": [],
   "source": [
    "def adv_s_loss(y_s, loss_fn=nn.BCELoss()):\n",
    "    L_adv_s = loss_fn(y_s, y_s)\n",
    "\n",
    "    return L_adv_s"
   ]
  },
  {
   "cell_type": "code",
   "execution_count": 16,
   "metadata": {},
   "outputs": [],
   "source": [
    "def adv_c_loss(y_c, loss_fn = nn.BCELoss()):\n",
    "    L_adv_c = loss_fn(y_c,y_c)\n",
    "\n",
    "    return L_adv_c"
   ]
  },
  {
   "cell_type": "code",
   "execution_count": 17,
   "metadata": {},
   "outputs": [],
   "source": [
    "def total_loss(recon_x, x, mu_s, logvar_s, mu_c, logvar_c, y_s, y_c, y_s_given_c, y_c_given_s, labels, bow, l_muls=10, l_mulc=3, l_advs=1, l_advc=0.03):\n",
    "    L_VAE = vae_loss(recon_x, x, mu_s, logvar_s, mu_c, logvar_c)\n",
    "    L_muls = mul_s_loss(y_s, labels)\n",
    "    L_mulc = mul_c_loss(y_c, bow)\n",
    "    L_advs = adv_s_loss(y_s_given_c)\n",
    "    L_advc = adv_c_loss(y_c_given_s)\n",
    "\n",
    "    return L_VAE + l_muls*L_muls + l_mulc*L_mulc - l_advs*L_advs - l_advc*L_advc"
   ]
  },
  {
   "cell_type": "code",
   "execution_count": 18,
   "metadata": {},
   "outputs": [],
   "source": [
    "def train_VAE(vae, style_classif, adv_style_classif, content_classif, adv_content_classif, train_loader, val_loader, num_epochs, vocab_size, lr = 4e-4):\n",
    "    params_tot = list(vae.parameters()) + list(style_classif.parameters()) + list(content_classif.parameters())\n",
    "    params_dis_s = list(adv_style_classif.parameters())\n",
    "    params_dis_c = list(adv_content_classif.parameters())\n",
    "\n",
    "    optimizer_tot = torch.optim.Adam(params_tot, lr = lr)\n",
    "    optimizer_dis_s = torch.optim.Adam(params_dis_s, lr = lr)\n",
    "    optimizer_dis_c = torch.optim.Adam(params_dis_c, lr = lr)\n",
    "\n",
    "    average_losses = []\n",
    "    val_losses = []\n",
    "    \n",
    "    for epoch in tqdm(range(num_epochs)):\n",
    "        train_loss = 0.0\n",
    "        average_loss = 0.0\n",
    "        val_loss = 0.0\n",
    "        average_val_loss = 0.0\n",
    "        \n",
    "        #model.train()\n",
    "        for  i, (data, bow, labels) in enumerate(train_loader):\n",
    "            data = data.to(device)\n",
    "            labels = labels.type(torch.FloatTensor)\n",
    "\n",
    "            optimizer_tot.zero_grad()\n",
    "            optimizer_dis_s.zero_grad()\n",
    "            optimizer_dis_c.zero_grad()\n",
    "\n",
    "            reconstructed_sequence, style, content, mu_s, logvar_s, mu_c, logvar_c = vae(data)\n",
    "            \n",
    "        \n",
    "            predicted_adv_style = adv_style_classif(content)\n",
    "            predicted_adv_style = predicted_adv_style.type(torch.FloatTensor)\n",
    "        \n",
    "    \n",
    "            L_dis_s = dis_s_loss(predicted_adv_style, labels)\n",
    "\n",
    "            L_dis_s.backward()\n",
    "            optimizer_dis_s.step()\n",
    "\n",
    "            reconstructed_sequence, style, content, mu_s, logvar_s, mu_c, logvar_c = vae(data)\n",
    "\n",
    "\n",
    "            predicted_adv_content = adv_content_classif(style)\n",
    "\n",
    "            L_dis_c = dis_c_loss(predicted_adv_content, bow)\n",
    "\n",
    "            L_dis_c.backward()\n",
    "            optimizer_dis_c.step()\n",
    "\n",
    "\n",
    "            reconstructed_sequence, style, content, mu_s, logvar_s, mu_c, logvar_c = vae(data)\n",
    "            \n",
    "\n",
    "            y_s = style_classif(style)\n",
    "            y_c = content_classif(content)\n",
    "            y_s_given_c = adv_style_classif(content)\n",
    "            y_c_given_s = adv_content_classif(style)\n",
    "\n",
    "            reconstructed_sequence = torch.FloatTensor(reconstructed_sequence)\n",
    "            \n",
    "            #data = data.type(torch.FloatTensor)\n",
    "            loss_tot = total_loss(reconstructed_sequence, data, mu_s, logvar_s, mu_c, logvar_c, y_s, y_c, y_s_given_c, y_c_given_s, labels, bow)\n",
    "            loss_tot.backward()\n",
    "            train_loss += loss_tot.item()\n",
    "\n",
    "\n",
    "            optimizer_tot.step()\n",
    "            \n",
    "            if (i + 1) % 5000 == 0:\n",
    "                print(f'Train Epoch: {epoch+1} [{i * len(data)}/{len(train_loader.dataset)} ({100. * i / len(train_loader):.0f}%)]\\tLoss: {loss_tot.item() / len(data):.6f}')\n",
    "        \n",
    "        \n",
    "        average_loss = train_loss / len(train_loader.dataset)\n",
    "        #plt.plot(epoch+1,average_loss)\n",
    "        print(f'====> Epoch: {epoch+1} Average loss: {average_loss:.4f}')\n",
    "        average_losses.append(average_loss)\n",
    "\n",
    "        with torch.no_grad():\n",
    "            for i, (data, bow, labels) in enumerate(val_loader):\n",
    "                data = data.to(device)\n",
    "                labels = labels.type(torch.FloatTensor)\n",
    "\n",
    "                reconstructed_sequence, style, content, mu_s, logvar_s, mu_c, logvar_c = vae(data)\n",
    "                \n",
    "\n",
    "                y_s = style_classif(style)\n",
    "                y_c = content_classif(content)\n",
    "                y_s_given_c = adv_style_classif(content)\n",
    "                y_c_given_s = adv_content_classif(style)\n",
    "\n",
    "                reconstructed_sequence = torch.FloatTensor(reconstructed_sequence)\n",
    "                \n",
    "                #data = data.type(torch.FloatTensor)\n",
    "                val_loss_tot = total_loss(reconstructed_sequence, data, mu_s, logvar_s, mu_c, logvar_c, y_s, y_c, y_s_given_c, y_c_given_s, labels, bow)\n",
    "                val_loss += val_loss_tot.item()\n",
    "\n",
    "\n",
    "                \n",
    "                if (i + 1) % 5000 == 0:\n",
    "                    print(f'Train Epoch: {epoch+1} [{i * len(data)}/{len(val_loader.dataset)} ({100. * i / len(val_loader):.0f}%)]\\tLoss: {val_loss_tot.item() / len(data):.6f}')\n",
    "            \n",
    "            \n",
    "        average_val_loss = val_loss / len(val_loader.dataset)\n",
    "        #print(f'====> Epoch: {epoch+1} Average loss: {average_val_loss:.4f}')\n",
    "        val_losses.append(average_val_loss)\n",
    "\n",
    "    \n",
    "    plt.plot(np.linspace(1,num_epochs,len(average_losses)), average_losses, c = 'darkcyan',label = 'train')\n",
    "    plt.plot(np.linspace(1,num_epochs,len(val_losses)), val_losses, c = 'orange',label = 'val')\n",
    "    plt.legend()\n",
    "    plt.xlabel(\"Epochs\")\n",
    "    plt.ylabel(\"Loss\")\n",
    "    plt.show()\n",
    "    return average_losses"
   ]
  },
  {
   "cell_type": "markdown",
   "metadata": {},
   "source": [
    "# è importantissimo"
   ]
  },
  {
   "cell_type": "code",
   "execution_count": 81,
   "metadata": {},
   "outputs": [],
   "source": [
    "#nomeFile='divina_commedia.txt'\n",
    "nomeFile='lo_cunto_de_li_cunti.txt'\n",
    "#nomeFile = 'uno_nessuno_e_i_malavoglia.txt'\n",
    "#nomeFile = 'tutto_assieme.txt'\n",
    "\n",
    "with open(nomeFile, 'r', encoding='utf-8') as f:\n",
    "    text = f.read()"
   ]
  },
  {
   "cell_type": "code",
   "execution_count": 82,
   "metadata": {},
   "outputs": [
    {
     "name": "stdout",
     "output_type": "stream",
     "text": [
      "49925\n"
     ]
    },
    {
     "data": {
      "text/plain": [
       "['antuono',\n",
       " 'de',\n",
       " 'marigliano',\n",
       " 'ped',\n",
       " 'essere',\n",
       " 'l',\n",
       " 'arcenfanfaro',\n",
       " 'de',\n",
       " 'li',\n",
       " 'catammare']"
      ]
     },
     "execution_count": 82,
     "metadata": {},
     "output_type": "execute_result"
    }
   ],
   "source": [
    "print(len(text.split()))\n",
    "text.split()[:10]"
   ]
  },
  {
   "cell_type": "code",
   "execution_count": 19,
   "metadata": {},
   "outputs": [],
   "source": [
    "def BoW(tensor, vocab_size, sequence_length):\n",
    "    bow = torch.zeros(size = (tensor.shape[0],vocab_size))\n",
    "    #BoW = [(data1[i] == num).sum().item()/data1.shape[1]  for i in range(data1.shape[0]) for num in data1[i] if BoW[i][torch.where(data1[i] == num)[0][0].item()]==0]\n",
    "\n",
    "    for i in range(tensor.shape[0]):\n",
    "        for num in tensor[i]:\n",
    "            bow[i][num] = (tensor[i] == num).sum().item()/sequence_length\n",
    "\n",
    "    return torch.FloatTensor(bow)"
   ]
  },
  {
   "cell_type": "code",
   "execution_count": 91,
   "metadata": {},
   "outputs": [],
   "source": [
    "def divide_text(text, sequence_length):\n",
    "    words = text.split()\n",
    "    #words = text\n",
    "    grouped_words = [' '.join(words[i:i+sequence_length]) for i in range(0,len(words),int(sequence_length/2))]  # range (0,len(words),8)\n",
    "    #grouped_words = [' '.join(words[i:i+sequence_length]) for i in range(0,len(words),2)]\n",
    "    #grouped_words = [words[i] for i in range(0,len(words),19)]\n",
    "    #grouped_words_2d = [sentence.split() for sentence in grouped_words]\n",
    "    output_text = [grouped_words[i].split() for i in range(len(grouped_words)) if len(grouped_words[i].split()) == sequence_length]\n",
    "    return output_text"
   ]
  },
  {
   "cell_type": "code",
   "execution_count": 92,
   "metadata": {},
   "outputs": [
    {
     "data": {
      "text/plain": [
       "['antuono',\n",
       " 'de',\n",
       " 'marigliano',\n",
       " 'ped',\n",
       " 'essere',\n",
       " 'l',\n",
       " 'arcenfanfaro',\n",
       " 'de',\n",
       " 'li',\n",
       " 'catammare',\n",
       " 'cacciato',\n",
       " 'da',\n",
       " 'la',\n",
       " 'mamma',\n",
       " 'se',\n",
       " 'mese',\n",
       " 'a',\n",
       " 'li',\n",
       " 'servizie']"
      ]
     },
     "execution_count": 92,
     "metadata": {},
     "output_type": "execute_result"
    }
   ],
   "source": [
    "text_divided = divide_text(text, 19)\n",
    "np.shape(text_divided)\n",
    "text_divided[0]"
   ]
  },
  {
   "cell_type": "code",
   "execution_count": 93,
   "metadata": {},
   "outputs": [],
   "source": [
    "word2vec = Word2Vec(text_divided, vector_size = 300, window = 5, min_count=1, workers=4, epochs = 50)"
   ]
  },
  {
   "cell_type": "code",
   "execution_count": 94,
   "metadata": {},
   "outputs": [],
   "source": [
    "word2idx = {word: idx for idx, word in enumerate(word2vec.wv.index_to_key)}"
   ]
  },
  {
   "cell_type": "code",
   "execution_count": 95,
   "metadata": {},
   "outputs": [
    {
     "data": {
      "text/plain": [
       "8062"
      ]
     },
     "execution_count": 95,
     "metadata": {},
     "output_type": "execute_result"
    }
   ],
   "source": [
    "word2idx['sieste']"
   ]
  },
  {
   "cell_type": "code",
   "execution_count": 88,
   "metadata": {},
   "outputs": [],
   "source": [
    "for i in range(len(text_divided)):\n",
    "    for char in text_divided[i]:\n",
    "        if char == 'sieste':\n",
    "            print('sieste?')"
   ]
  },
  {
   "cell_type": "code",
   "execution_count": 96,
   "metadata": {},
   "outputs": [],
   "source": [
    "def custom_dataset(file1 : str,file2 : str, sequence_length, embedding_dim, batch_size, training_fraction):\n",
    "\n",
    "    with open(file1, 'r', encoding='utf-8') as f:\n",
    "        text1 = f.read()\n",
    "\n",
    "\n",
    "    with open(file2, 'r', encoding='utf-8') as f:\n",
    "        text2 = f.read()\n",
    "\n",
    "    text1 = '<sos> ' + text1 \n",
    "    text = text1 + ' ' + text2\n",
    "    divided_text = divide_text(text, sequence_length)\n",
    "\n",
    "    #word2vec = Word2Vec(divided_text, vector_size = embedding_dim, window = int(sequence_length/2), min_count=1, workers=4)\n",
    "    word2vec = Word2Vec(divided_text, vector_size = embedding_dim, window = 5, min_count=1, workers=4, epochs = 50)\n",
    "    #word2vec.train(divided_text, total_examples=word2vec.corpus_count, epochs=20)\n",
    "\n",
    "    # Get the embedding dimension\n",
    "    embedding_dim = word2vec.wv.vector_size\n",
    "\n",
    "    # Prepare the embedding matrix\n",
    "    vocab_size = len(word2vec.wv)\n",
    "    embedding_matrix = np.zeros((vocab_size, embedding_dim))\n",
    "    word2idx = {word: idx for idx, word in enumerate(word2vec.wv.index_to_key)}\n",
    "    idx2word = {idx: word for idx, word in enumerate(word2vec.wv.index_to_key)}\n",
    "\n",
    "    for word, idx in word2idx.items():\n",
    "        embedding_matrix[idx] = word2vec.wv[word]\n",
    "\n",
    "    # Convert to PyTorch tensor\n",
    "    embedding_matrix = torch.tensor(embedding_matrix, dtype=torch.float32)\n",
    "\n",
    "\n",
    "\n",
    "    text1_divided = divide_text(text1, sequence_length)\n",
    "    data1 = torch.LongTensor([[word2idx[char] for char in text1_divided[i]] for i in range(len(text1_divided))])\n",
    "\n",
    "\n",
    "    text2_divided = divide_text(text2, sequence_length)\n",
    "    data2 = torch.LongTensor([[word2idx[char] for char in text2_divided[i]] for i in range(len(text2_divided))])\n",
    "\n",
    "\n",
    "    data1_train = data1[:int(training_fraction * data1.shape[0])]\n",
    "    data1_val = data1[int(training_fraction * data1.shape[0]):]\n",
    "\n",
    "    data2_train = data2[:int(training_fraction * data2.shape[0])]\n",
    "    data2_val = data2[int(training_fraction * data2.shape[0]):]\n",
    "\n",
    "\n",
    "    label0_train = torch.zeros(data1_train.shape[0])\n",
    "    label0_val = torch.zeros(data1_val.shape[0])\n",
    "\n",
    "    label1_train = torch.ones(data2_train.shape[0])\n",
    "    label1_val = torch.ones(data2_val.shape[0])\n",
    "\n",
    "\n",
    "    labels_train = torch.cat((label0_train, label1_train), dim = 0)\n",
    "    labels_val = torch.cat((label0_val, label1_val), dim = 0)\n",
    "\n",
    "    data_train = torch.cat((data1_train, data2_train), dim = 0)\n",
    "    data_val = torch.cat((data1_val, data2_val), dim = 0)\n",
    "\n",
    "    data_train = torch.LongTensor(data_train)\n",
    "    labels_train = labels_train.type(torch.LongTensor)\n",
    "    bow_train = BoW(data_train, vocab_size, sequence_length)\n",
    "\n",
    "    dataset_train = TensorDataset(data_train, bow_train, labels_train)\n",
    "\n",
    "    # Create a DataLoader with shuffling enabled\n",
    "    dataloader_train = DataLoader(dataset_train, batch_size = batch_size, shuffle=True)\n",
    "    #dataloader_train = DataLoader(dataset_train, batch_size = batch_size)\n",
    "\n",
    "\n",
    "    data_val = torch.LongTensor(data_val)\n",
    "    labels_val = labels_val.type(torch.LongTensor)\n",
    "    bow_val = BoW(data_val, vocab_size, sequence_length)\n",
    "\n",
    "    dataset_val = TensorDataset(data_val, bow_val, labels_val)\n",
    "\n",
    "    # Create a DataLoader with shuffling enabled\n",
    "    dataloader_val = DataLoader(dataset_val, batch_size = batch_size, shuffle = True)\n",
    "    #dataloader_val = DataLoader(dataset_val, batch_size = batch_size)\n",
    "\n",
    "\n",
    "    style0_val = torch.LongTensor(data1_val)\n",
    "    style1_val = torch.LongTensor(data2_val)\n",
    "    \n",
    "    return dataloader_train, dataloader_val, embedding_dim, embedding_matrix, word2vec, idx2word, word2idx, vocab_size, style0_val, style1_val"
   ]
  },
  {
   "cell_type": "code",
   "execution_count": 97,
   "metadata": {},
   "outputs": [
    {
     "data": {
      "text/plain": [
       "tensor([1, 0])"
      ]
     },
     "execution_count": 97,
     "metadata": {},
     "output_type": "execute_result"
    }
   ],
   "source": [
    "a = torch.tensor([[1,0]])\n",
    "a = a.repeat(32,1)\n",
    "a[1]"
   ]
  },
  {
   "cell_type": "code",
   "execution_count": 98,
   "metadata": {},
   "outputs": [],
   "source": [
    "sequence_length = 25\n",
    "embedding_dim = 300\n",
    "hidden_dim = 256\n",
    "latent_dim = 136"
   ]
  },
  {
   "cell_type": "code",
   "execution_count": 32,
   "metadata": {},
   "outputs": [
    {
     "name": "stdout",
     "output_type": "stream",
     "text": [
      "len train loader:  229\n"
     ]
    }
   ],
   "source": [
    "train_loader, val_loader, embedding_dim, embedding_matrix, word2vec, idx2word, word2idx, vocab_size, style0_val, style1_val = custom_dataset('divina_commedia.txt', \n",
    "                                                                                     'uno_nessuno_e_i_malavoglia.txt', \n",
    "                                                                                     sequence_length, \n",
    "                                                                                     embedding_dim,\n",
    "                                                                                     batch_size = 32, \n",
    "                                                                                     training_fraction = 0.9)\n",
    "print('len train loader: ', len(train_loader))"
   ]
  },
  {
   "cell_type": "code",
   "execution_count": 100,
   "metadata": {},
   "outputs": [
    {
     "name": "stdout",
     "output_type": "stream",
     "text": [
      "len train loader:  356\n"
     ]
    }
   ],
   "source": [
    "train_loader, val_loader, embedding_dim, embedding_matrix, word2vec, idx2word, word2idx, vocab_size, style0_val, style1_val = custom_dataset('divina_commedia.txt', \n",
    "                                                                                     'lo_cunto_de_li_cunti.txt', \n",
    "                                                                                     sequence_length, \n",
    "                                                                                     embedding_dim,\n",
    "                                                                                     batch_size = 32, \n",
    "                                                                                     training_fraction = 0.9)\n",
    "print('len train loader: ', len(train_loader))"
   ]
  },
  {
   "cell_type": "code",
   "execution_count": 104,
   "metadata": {},
   "outputs": [
    {
     "data": {
      "text/plain": [
       "19529"
      ]
     },
     "execution_count": 104,
     "metadata": {},
     "output_type": "execute_result"
    }
   ],
   "source": [
    "vocab_size"
   ]
  },
  {
   "cell_type": "code",
   "execution_count": 107,
   "metadata": {},
   "outputs": [],
   "source": [
    "sos_token = torch.full((1,),word2idx['<sos>'])\n",
    "sos_token = sos_token.type(torch.LongTensor)"
   ]
  },
  {
   "cell_type": "code",
   "execution_count": 108,
   "metadata": {},
   "outputs": [],
   "source": [
    "vae = GRUVAE(embedding_matrix, hidden_dim, latent_dim, vocab_size, sos_token, num_layers = 1)\n",
    "\n",
    "style_classif = StyleClassifier(8)\n",
    "adv_style_classif = AdvStyleClassifier(128)\n",
    "content_classif = ContentClassifier(128, vocab_size)\n",
    "adv_content_classif = AdvContentClassifier(8, vocab_size)"
   ]
  },
  {
   "cell_type": "code",
   "execution_count": 109,
   "metadata": {},
   "outputs": [
    {
     "name": "stdout",
     "output_type": "stream",
     "text": [
      "Total parameters:  6590109\n"
     ]
    }
   ],
   "source": [
    "vae_params = sum(p.numel() for p in vae.parameters() if p.requires_grad)\n",
    "style_params = sum(p.numel() for p in style_classif.parameters() if p.requires_grad)\n",
    "style_adv_params = sum(p.numel() for p in adv_style_classif.parameters() if p.requires_grad)\n",
    "content_params = sum(p.numel() for p in content_classif.parameters() if p.requires_grad)\n",
    "adv_content_params = sum(p.numel() for p in adv_content_classif.parameters() if p.requires_grad)\n",
    "total_params =  vae_params + style_params + style_adv_params + content_params + adv_content_params\n",
    "print('Total parameters: ', total_params)"
   ]
  },
  {
   "cell_type": "code",
   "execution_count": 110,
   "metadata": {},
   "outputs": [
    {
     "name": "stderr",
     "output_type": "stream",
     "text": [
      "  0%|          | 0/5 [00:00<?, ?it/s]"
     ]
    },
    {
     "name": "stdout",
     "output_type": "stream",
     "text": [
      "====> Epoch: 1 Average loss: 0.3179\n"
     ]
    },
    {
     "name": "stderr",
     "output_type": "stream",
     "text": [
      " 20%|██        | 1/5 [02:07<08:29, 127.30s/it]"
     ]
    },
    {
     "name": "stdout",
     "output_type": "stream",
     "text": [
      "====> Epoch: 2 Average loss: 0.2058\n"
     ]
    },
    {
     "name": "stderr",
     "output_type": "stream",
     "text": [
      " 40%|████      | 2/5 [04:24<06:39, 133.30s/it]"
     ]
    },
    {
     "name": "stdout",
     "output_type": "stream",
     "text": [
      "====> Epoch: 3 Average loss: 0.1551\n"
     ]
    },
    {
     "name": "stderr",
     "output_type": "stream",
     "text": [
      " 60%|██████    | 3/5 [06:44<04:32, 136.42s/it]"
     ]
    },
    {
     "name": "stdout",
     "output_type": "stream",
     "text": [
      "====> Epoch: 4 Average loss: 0.1291\n"
     ]
    },
    {
     "name": "stderr",
     "output_type": "stream",
     "text": [
      " 80%|████████  | 4/5 [09:05<02:17, 137.99s/it]"
     ]
    },
    {
     "name": "stdout",
     "output_type": "stream",
     "text": [
      "====> Epoch: 5 Average loss: 0.1124\n"
     ]
    },
    {
     "name": "stderr",
     "output_type": "stream",
     "text": [
      "100%|██████████| 5/5 [11:28<00:00, 137.73s/it]\n"
     ]
    },
    {
     "data": {
      "image/png": "[encoded data removed]",
      "text/plain": [
       "<Figure size 640x480 with 1 Axes>"
      ]
     },
     "metadata": {},
     "output_type": "display_data"
    }
   ],
   "source": [
    "losses = train_VAE(vae,\n",
    "                   style_classif,\n",
    "                   adv_style_classif,\n",
    "                   content_classif,\n",
    "                   adv_content_classif,\n",
    "                   train_loader,\n",
    "                   val_loader,\n",
    "                   num_epochs = 5,\n",
    "                   vocab_size= vocab_size,\n",
    "                   lr = 4e-4)"
   ]
  },
  {
   "cell_type": "markdown",
   "metadata": {},
   "source": [
    "# Ricostruzione"
   ]
  },
  {
   "cell_type": "code",
   "execution_count": 114,
   "metadata": {},
   "outputs": [
    {
     "name": "stdout",
     "output_type": "stream",
     "text": [
      "Stile reale:  Italiano\n",
      "Stile predetto:  0.5954515337944031\n",
      "Input sequence: \n",
      " te resuorve de fare lo consiglio de chi te vo bene all utemo sì sango nuostro e desiderammo l utele e lo gusto tujo però\n",
      "\n",
      "Reconstructed sequence: \n",
      " te move de fare lo consiglio de chi te vo bene all utemo sì sango tujo e tujo l tujo e lo gusto tujo però\n"
     ]
    }
   ],
   "source": [
    "for i ,(data,bow,label) in enumerate(val_loader):\n",
    "    if i == 0:\n",
    "        prova = data[0]\n",
    "        labels = label[0]\n",
    "        boww = bow[0]\n",
    "\n",
    "frase = [idx2word[prova[i].item()] for i in range(prova.shape[0])]\n",
    "\n",
    "prova = prova.view(1,prova.shape[0])\n",
    "\n",
    "with torch.no_grad():\n",
    "    reconstructed_sequence, style, content, mu_s, logvar_s, mu_c, logvar_c  = vae(prova)\n",
    "\n",
    "indices = torch.argmax(reconstructed_sequence, dim=2)\n",
    "\n",
    "ricostruzione = []\n",
    "for i in range(prova.shape[1]):\n",
    "    ricostruzione.append(idx2word[indices[0][i].item()])\n",
    "\n",
    "\n",
    "if labels.item() == 0.0:\n",
    "    stile = 'Dante'\n",
    "else: \n",
    "    stile = 'Italiano'\n",
    "\n",
    "style = style_classif(style)\n",
    "\n",
    "print('Stile reale: ', stile)\n",
    "print('Stile predetto: ', style[0].item())\n",
    "print(\"Input sequence: \\n\", ' '.join(frase))\n",
    "print(\"\\nReconstructed sequence: \\n\", ' '.join(ricostruzione))"
   ]
  },
  {
   "cell_type": "code",
   "execution_count": null,
   "metadata": {},
   "outputs": [],
   "source": []
  },
  {
   "cell_type": "markdown",
   "metadata": {},
   "source": [
    "# Style transfer"
   ]
  },
  {
   "cell_type": "code",
   "execution_count": 124,
   "metadata": {},
   "outputs": [
    {
     "name": "stdout",
     "output_type": "stream",
     "text": [
      "From Dante to italian: \n",
      "\n",
      "Input sequence: \n",
      " del gran viro a cui nostro segnor lasciò le chiavi ch ei portò giù di questo gaudio miro tenta costui di punti lievi e gravi\n",
      "\n",
      "Reconstructed sequence: \n",
      " del gran contra a cui nostro segnor lasciò le chiavi ch ei portò giù di questo ricominciò render tenta costui di spesse uomini e gravi\n",
      "\n",
      "Transferred sequence: \n",
      " del gran peluso a cui nostro segnor lasciò le chiavi ch ei portò giù di questo ricominciò manto tenta costui di spesse uomini e gravi\n"
     ]
    }
   ],
   "source": [
    "with torch.no_grad():\n",
    "    reconstructed_sequence, style, content, mu_s, logvar_s, mu_c, logvar_c  = vae(style1_val)\n",
    "\n",
    "\n",
    "#style1 = z_s.mean(dim=1).view(z_s.shape[0],1,z_s.shape[2])\n",
    "style1 = style.mean(dim=1).unsqueeze(1)\n",
    "\n",
    "n = 25\n",
    "\n",
    "with torch.no_grad():    \n",
    "    transfer_output = vae.style_transfer(style0_val[n].view(1,style0_val.shape[1]), style1)\n",
    "\n",
    "\n",
    "with torch.no_grad():\n",
    "    reconstructed, style, content, mu_s, logvar_s, mu_c, logvar_c  = vae(style0_val[n].view(1,style0_val.shape[1]))\n",
    "\n",
    "\n",
    "index = torch.argmax(reconstructed,dim=2)\n",
    "\n",
    "indices = torch.argmax(transfer_output, dim=2)\n",
    "\n",
    "frase_trasferita = []\n",
    "\n",
    "for i in range(transfer_output.shape[1]):\n",
    "    frase_trasferita.append(idx2word[indices[0][i].item()])\n",
    "\n",
    "ricostruita = []\n",
    "for i in range(transfer_output.shape[1]):\n",
    "    ricostruita.append(idx2word[index[0][i].item()])\n",
    "\n",
    "frase = [idx2word[style0_val[n][i].item()] for i in range(style0_val.shape[1])]\n",
    "\n",
    "\n",
    "print(\"From Dante to italian: \\n\")\n",
    "print(\"Input sequence: \\n\", ' '.join(frase))\n",
    "print(\"\\nReconstructed sequence: \\n\", ' '.join(ricostruita))\n",
    "print(\"\\nTransferred sequence: \\n\", ' '.join(frase_trasferita))"
   ]
  },
  {
   "cell_type": "code",
   "execution_count": 73,
   "metadata": {},
   "outputs": [
    {
     "name": "stdout",
     "output_type": "stream",
     "text": [
      "From Italian to Dante: \n",
      "\n",
      "Input sequence: \n",
      " soffiò loro lo speziale facendo gli occhiacci volete che andiamo tutti in galera sappiate che colla giustizia bisogna dir sempre di no e che noi\n",
      "\n",
      "Reconstructed sequence: \n",
      " alle loro lo speziale facendo gli gridò volete che andiamo tutti in casa stata che colla giustizia bisogna dir sempre di no e che noi\n"
     ]
    }
   ],
   "source": [
    "with torch.no_grad():\n",
    "    reconstructed_sequence, style, content, mu_s, logvar_s, mu_c, logvar_c  = vae(style0_val)\n",
    "\n",
    "\n",
    "#style1 = z_s.mean(dim=1).view(z_s.shape[0],1,z_s.shape[2])\n",
    "style0 = style.mean(dim=1).unsqueeze(1)\n",
    "\n",
    "n = 55\n",
    "\n",
    "with torch.no_grad():    \n",
    "    transfer_output = vae.style_transfer(style1_val[n].view(1,style1_val.shape[1]), style0)\n",
    "\n",
    "\n",
    "indices = torch.argmax(transfer_output, dim=2)\n",
    "\n",
    "frase_trasferita = []\n",
    "\n",
    "for i in range(transfer_output.shape[1]):\n",
    "    frase_trasferita.append(idx2word[indices[0][i].item()])\n",
    "\n",
    "\n",
    "frase = [idx2word[style1_val[n][i].item()] for i in range(style1_val.shape[1])]\n",
    "\n",
    "\n",
    "print(\"From Italian to Dante: \\n\")\n",
    "print(\"Input sequence: \\n\", ' '.join(frase))\n",
    "print(\"\\nReconstructed sequence: \\n\", ' '.join(frase_trasferita))"
   ]
  },
  {
   "cell_type": "code",
   "execution_count": null,
   "metadata": {},
   "outputs": [],
   "source": []
  }
 ],
 "metadata": {
  "kernelspec": {
   "display_name": "ox",
   "language": "python",
   "name": "python3"
  },
  "language_info": {
   "codemirror_mode": {
    "name": "ipython",
    "version": 3
   },
   "file_extension": ".py",
   "mimetype": "text/x-python",
   "name": "python",
   "nbconvert_exporter": "python",
   "pygments_lexer": "ipython3",
   "version": "3.12.1"
  }
 },
 "nbformat": 4,
 "nbformat_minor": 2
}
