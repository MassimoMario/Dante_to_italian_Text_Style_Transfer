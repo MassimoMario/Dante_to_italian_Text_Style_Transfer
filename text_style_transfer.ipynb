{
 "cells": [
  {
   "cell_type": "code",
   "execution_count": 1,
   "metadata": {},
   "outputs": [],
   "source": [
    "import numpy as np\n",
    "from tqdm import tqdm\n",
    "import matplotlib.pyplot as plt\n",
    "import torch\n",
    "import torch.nn as nn\n",
    "from torch.nn import functional as F\n",
    "from torch.utils.data import DataLoader,TensorDataset\n",
    "from gensim.models import Word2Vec"
   ]
  },
  {
   "cell_type": "code",
   "execution_count": 2,
   "metadata": {},
   "outputs": [],
   "source": [
    "device = torch.device(\"cuda\" if torch.cuda.is_available() else \"cpu\")"
   ]
  },
  {
   "cell_type": "code",
   "execution_count": 3,
   "metadata": {},
   "outputs": [],
   "source": [
    "class StyleClassifier(nn.Module):\n",
    "    def __init__(self, input_dim):\n",
    "        super(StyleClassifier, self).__init__()\n",
    "        self.input_dim = input_dim\n",
    "        self.mlp = nn.Sequential(nn.Linear(input_dim,int(input_dim*0.5)),\n",
    "                                  nn.ReLU(),\n",
    "                                  nn.Linear(int(input_dim*0.5),1))\n",
    "        \n",
    "    def forward(self,x):\n",
    "        x = self.mlp(x)\n",
    "        #x = torch.mean(x, dim=1)\n",
    "        x = torch.sigmoid(x)\n",
    "        return x.view(x.shape[1])"
   ]
  },
  {
   "cell_type": "code",
   "execution_count": 4,
   "metadata": {},
   "outputs": [],
   "source": [
    "class AdvStyleClassifier(nn.Module):\n",
    "    def __init__(self, input_dim):\n",
    "        super(AdvStyleClassifier, self).__init__()\n",
    "        self.input_dim = input_dim\n",
    "        self.mlp = nn.Sequential(nn.Linear(input_dim,int(input_dim*0.5)),\n",
    "                                  nn.ReLU(),\n",
    "                                  nn.Linear(int(input_dim*0.5),1))\n",
    "        \n",
    "    def forward(self,x):\n",
    "        x = self.mlp(x)\n",
    "        x = torch.sigmoid(x)\n",
    "        return x.view(x.shape[1])"
   ]
  },
  {
   "cell_type": "code",
   "execution_count": 5,
   "metadata": {},
   "outputs": [],
   "source": [
    "class ContentClassifier(nn.Module):\n",
    "    def __init__(self, input_dim, sequence_length):\n",
    "        super(ContentClassifier, self).__init__()\n",
    "        self.input_dim = input_dim\n",
    "        self.sequence_length = sequence_length\n",
    "        self.mlp = nn.Sequential(nn.Linear(input_dim,int(input_dim*0.5)),\n",
    "                                  nn.ReLU(),\n",
    "                                nn.Linear(int(input_dim*0.5),sequence_length))\n",
    "        \n",
    "    def forward(self,x):\n",
    "        x = self.mlp(x)\n",
    "        #x = torch.mean(x, dim=2)\n",
    "        x = F.softmax(x,dim=1)\n",
    "        return x.squeeze(0)"
   ]
  },
  {
   "cell_type": "code",
   "execution_count": 6,
   "metadata": {},
   "outputs": [],
   "source": [
    "class AdvContentClassifier(nn.Module):\n",
    "    def __init__(self, input_dim, sequence_length):\n",
    "        super(AdvContentClassifier, self).__init__()\n",
    "        self.input_dim = input_dim\n",
    "        self.sequence_length = sequence_length\n",
    "        self.mlp = nn.Sequential(nn.Linear(input_dim,input_dim*2),\n",
    "                                  nn.ReLU(),\n",
    "                                nn.Linear(input_dim*2,sequence_length))\n",
    "        \n",
    "    def forward(self,x):\n",
    "        x = self.mlp(x)\n",
    "        #x = torch.mean(x, dim=1)\n",
    "        x = F.softmax(x,dim=1)\n",
    "        return x.squeeze(0)"
   ]
  },
  {
   "cell_type": "code",
   "execution_count": 7,
   "metadata": {},
   "outputs": [],
   "source": [
    "class GRUEncoder(nn.Module):\n",
    "    def __init__(self, embedding_matrix, embedd_dim, hidden_dim, latent_dim, num_layers):\n",
    "        super(GRUEncoder, self).__init__()\n",
    "        self.embedd_dim = embedd_dim\n",
    "        self.hidden_dim = hidden_dim\n",
    "        self.num_layers = num_layers\n",
    "        self.style_dim = int(latent_dim/17)\n",
    "        self.content_dim = latent_dim - int(self.style_dim)\n",
    "\n",
    "        self.embedder = nn.Embedding.from_pretrained(embedding_matrix, freeze = True)\n",
    "        self.layer_norm = nn.LayerNorm(embedd_dim)\n",
    "        self.gru = nn.GRU(embedd_dim, hidden_dim, num_layers, batch_first=True) # (N,B,H) N batches, B sequence length, H input dim\n",
    "        self.fcmu_style = nn.Linear(hidden_dim, 8)\n",
    "        self.fcvar_style = nn.Linear(hidden_dim, 8)\n",
    "        self.fcmu_content = nn.Linear(hidden_dim, 128)\n",
    "        self.fcvar_content = nn.Linear(hidden_dim, 128)\n",
    "\n",
    "    def forward(self, x):\n",
    "        embedded_input = self.embedder(x)\n",
    "        x = self.layer_norm(embedded_input)\n",
    "        #h0 = torch.zeros(self.num_layers, x.size(0), self.hidden_dim*2).to(x.device)\n",
    "        _, h_n = self.gru(x)\n",
    "    \n",
    "        #out = torch.norm(out,dim=2) # se vuoi usare questo MODIFICA I LINEAR LAYERS!!!!!!!!!!!!!!!!! PIUTTOSTO FAI IL NORM FUORI DALL'ENCODER E AGGIUNGI EMBEDDER A DECODER!!!!!!!!!!!!!!!!!!\n",
    "        #out = torch.mean(out,dim=1)\n",
    "        mu_s = self.fcmu_style(h_n)\n",
    "        log_var_s = self.fcvar_style(h_n)\n",
    "        mu_c = self.fcmu_content(h_n)\n",
    "        log_var_c = self.fcvar_content(h_n)\n",
    "\n",
    "        z_s = self.reparametrization(mu_s, log_var_s)\n",
    "        z_c = self.reparametrization(mu_c, log_var_c)\n",
    "        \n",
    "        return z_s, z_c, mu_s , log_var_s, mu_c, log_var_c\n",
    "    \n",
    "    def reparametrization(self,mu,log_var):\n",
    "        std = torch.exp(0.5*log_var)\n",
    "        eps = torch.randn_like(std)\n",
    "        return mu + eps*std\n",
    "    \n",
    "\n",
    "\n",
    "class GRUDecoder(nn.Module):\n",
    "    def __init__(self, latent_dim, hidden_dim, output_dim, num_layers):\n",
    "        super(GRUDecoder, self).__init__()\n",
    "        self.output_dim = output_dim\n",
    "        self.hidden_dim = hidden_dim\n",
    "        self.latent_dim = latent_dim\n",
    "        self.num_layers = num_layers\n",
    "\n",
    "\n",
    "        self.layer_norm = nn.LayerNorm(latent_dim)\n",
    "        self.gru = nn.GRU(latent_dim, hidden_dim, num_layers, batch_first=True)\n",
    "        self.fc = nn.Linear(hidden_dim, output_dim)\n",
    "\n",
    "    def forward(self, x):\n",
    "        #h0 = torch.zeros(self.num_layers, x.size(0), int(self.output_dim/2)).to(x.device)\n",
    "        #out = self.embedder(x)\n",
    "        #out = self.layer_norm(out)\n",
    "        #out = self.layer_norm(x)\n",
    "        out, _ = self.gru(x)\n",
    "        \n",
    "        out = self.fc(out)\n",
    "        out = torch.sigmoid(out)\n",
    "        #out = out.mean(dim=2)\n",
    "        #out = out.max(dim=2)\n",
    "        \n",
    "        return out"
   ]
  },
  {
   "cell_type": "markdown",
   "metadata": {},
   "source": [
    "# Train function"
   ]
  },
  {
   "cell_type": "code",
   "execution_count": 8,
   "metadata": {},
   "outputs": [],
   "source": [
    "def vae_loss(recon_x, x, mu_s, log_var_s, mu_c, log_var_c, l_s = 0.03, l_c = 0.03, loss_fn = nn.MSELoss(), cos_loss = nn.CosineSimilarity(dim=2), wrong = nn.BCELoss()):\n",
    "    BCE = loss_fn(recon_x, x)\n",
    "    #BCE = 1 - cos_loss(recon_x,x).mean()\n",
    "    #BCE = wrong(recon_x,x)\n",
    "    KLD_s = -0.5 * torch.sum(1 + log_var_s - mu_s.pow(2) - log_var_s.exp())\n",
    "    KLD_c = -0.5 * torch.sum(1 + log_var_c - mu_c.pow(2) - log_var_c.exp())\n",
    "    return BCE + l_s*KLD_s + l_c*KLD_c"
   ]
  },
  {
   "cell_type": "code",
   "execution_count": 9,
   "metadata": {},
   "outputs": [],
   "source": [
    "def mul_s_loss(y_s, labels, loss_fn=nn.BCELoss()):\n",
    "    L_mul_s = loss_fn(y_s, labels)\n",
    "\n",
    "    return L_mul_s"
   ]
  },
  {
   "cell_type": "code",
   "execution_count": 10,
   "metadata": {},
   "outputs": [],
   "source": [
    "def mul_c_loss(y_c, bow, loss_fn=nn.MSELoss()):\n",
    "    L_mul_c = loss_fn(y_c, bow)\n",
    "\n",
    "    return L_mul_c"
   ]
  },
  {
   "cell_type": "code",
   "execution_count": 11,
   "metadata": {},
   "outputs": [],
   "source": [
    "def dis_s_loss(y_s, labels, loss_fn=nn.BCELoss()):\n",
    "    L_dis_s = loss_fn(y_s, labels)\n",
    "\n",
    "    return L_dis_s"
   ]
  },
  {
   "cell_type": "code",
   "execution_count": 12,
   "metadata": {},
   "outputs": [],
   "source": [
    "def dis_c_loss(y_c, bow, loss_fn=nn.MSELoss()):\n",
    "    L_dis_c = loss_fn(y_c, bow)\n",
    "\n",
    "    return L_dis_c"
   ]
  },
  {
   "cell_type": "code",
   "execution_count": 13,
   "metadata": {},
   "outputs": [],
   "source": [
    "def adv_s_loss(y_s, loss_fn=nn.BCELoss()):\n",
    "    L_adv_s = loss_fn(y_s, y_s)\n",
    "\n",
    "    return L_adv_s"
   ]
  },
  {
   "cell_type": "code",
   "execution_count": 14,
   "metadata": {},
   "outputs": [],
   "source": [
    "def adv_c_loss(y_c, loss_fn = nn.BCELoss()):\n",
    "    L_adv_c = loss_fn(y_c,y_c)\n",
    "\n",
    "    return L_adv_c"
   ]
  },
  {
   "cell_type": "code",
   "execution_count": 15,
   "metadata": {},
   "outputs": [],
   "source": [
    "def total_loss(recon_x, x, mu_s, log_var_s, mu_c, log_var_c, y_s, y_c, y_s_given_c, y_c_given_s, labels, bow, l_muls=10, l_mulc=3, l_advs=1, l_advc=0.03):\n",
    "    L_VAE = vae_loss(recon_x, x, mu_s, log_var_s, mu_c, log_var_c)\n",
    "    L_muls = mul_s_loss(y_s, labels)\n",
    "    L_mulc = mul_c_loss(y_c, bow)\n",
    "    L_advs = adv_s_loss(y_s_given_c)\n",
    "    L_advc = adv_c_loss(y_c_given_s)\n",
    "\n",
    "    return L_VAE + l_muls*L_muls + l_mulc*L_mulc - l_advs*L_advs - l_advc*L_advc"
   ]
  },
  {
   "cell_type": "code",
   "execution_count": 16,
   "metadata": {},
   "outputs": [],
   "source": [
    "def train_VAE(encoder, decoder,style_classif, adv_style_classif, content_classif, adv_content_classif, train_loader, val_loader, num_epochs, vocab_size, lr = 4e-4):\n",
    "    params_tot = list(encoder.parameters()) + list(decoder.parameters()) + list(style_classif.parameters()) + list(content_classif.parameters())\n",
    "    params_dis_s = list(adv_style_classif.parameters())\n",
    "    params_dis_c = list(adv_content_classif.parameters())\n",
    "\n",
    "    optimizer_tot = torch.optim.Adam(params_tot, lr = lr)\n",
    "    optimizer_dis_s = torch.optim.Adam(params_dis_s, lr = lr)\n",
    "    optimizer_dis_c = torch.optim.Adam(params_dis_c, lr = lr)\n",
    "\n",
    "    average_losses = []\n",
    "    val_losses = []\n",
    "    \n",
    "    for epoch in tqdm(range(num_epochs)):\n",
    "        train_loss = 0.0\n",
    "        average_loss = 0.0\n",
    "        val_loss = 0.0\n",
    "        average_val_loss = 0.0\n",
    "        \n",
    "        #model.train()\n",
    "        for  i, (data, bow, labels) in enumerate(train_loader):\n",
    "            data = data.to(device)\n",
    "            input_data = data/vocab_size\n",
    "            labels = labels.type(torch.FloatTensor)\n",
    "            #data = torch.LongTensor(data)\n",
    "\n",
    "            optimizer_tot.zero_grad()\n",
    "            optimizer_dis_s.zero_grad()\n",
    "            optimizer_dis_c.zero_grad()\n",
    "\n",
    "            z_s, z_c, mu_s , log_var_s, mu_c, log_var_c = encoder(data)\n",
    "\n",
    "        \n",
    "            predicted_adv_style = adv_style_classif(z_c)\n",
    "            predicted_adv_style = predicted_adv_style.type(torch.FloatTensor)\n",
    "            #print('predicted adv_style shape: ', predicted_adv_style.shape)\n",
    "            #print('z content shape: ', z_content.shape)\n",
    "            \n",
    "            #return mu_style, out1, out\n",
    "            L_dis_s = dis_s_loss(predicted_adv_style, labels)\n",
    "\n",
    "            L_dis_s.backward()\n",
    "            optimizer_dis_s.step()\n",
    "\n",
    "            z_s, z_c, mu_s , log_var_s, mu_c, log_var_c = encoder(data)\n",
    "\n",
    "\n",
    "            predicted_adv_content = adv_content_classif(z_s)\n",
    "            #print('predicted adv_content shape: ', predicted_adv_content.shape)\n",
    "            #print('z style shape: ', z_style.shape)\n",
    "            #print('predicted adv_content shape: ', predicted_adv_content.shape)\n",
    "\n",
    "            L_dis_c = dis_c_loss(predicted_adv_content, bow)\n",
    "\n",
    "            L_dis_c.backward()\n",
    "            optimizer_dis_c.step()\n",
    "\n",
    "\n",
    "            z_s, z_c, mu_s , log_var_s, mu_c, log_var_c = encoder(data)\n",
    "\n",
    "            z = torch.cat((z_s,z_c),dim = 2)\n",
    "\n",
    "            \n",
    "            #mu_style = torch.norm(mu_style,dim=2)\n",
    "            #log_var_style = torch.norm(log_var_style,dim=2)\n",
    "            #mu_content = torch.norm(mu_content,dim=2)\n",
    "            #log_var_content = torch.norm(log_var_content,dim=2)\n",
    "            #print('z shape: ', z.shape)\n",
    "            \n",
    "            #z = torch.norm(z,dim=2)\n",
    "            #z = z.type(torch.LongTensor)\n",
    "            #print('new z shape: ', z.shape)\n",
    "            \n",
    "            #z_style = torch.norm(z_style,dim=2)\n",
    "            #z_content = torch.norm(z_content,dim=2)\n",
    "\n",
    "            recon_data = decoder(z)\n",
    "\n",
    "            #mu = torch.cat((mu_style,mu_content),dim=1)\n",
    "            #var = torch.cat((log_var_style.exp(),log_var_content.exp()),dim=1)\n",
    "            #log_var = torch.log(var)\n",
    "            #recon_data = torch.norm(recon_data,dim=2)\n",
    "            #recon_data = torch.mean(recon_data,dim=2) #IS THIS RIGHT?!?!?!?!?!?\n",
    "            #recon_data = recon_data[:,:,-1]\n",
    "            #print('z_style shape: ', z_style.shape)\n",
    "            #print('z content shape: ', z_content.shape)\n",
    "            #print('x reconstructed shape: ', recon_data.shape)\n",
    "            y_s = style_classif(z_s)\n",
    "            y_c = content_classif(z_c)\n",
    "            y_s_given_c = adv_style_classif(z_c)\n",
    "            y_c_given_s = adv_content_classif(z_s)\n",
    "            #print('ys shape: ', y_s.shape)\n",
    "            #print('yc shape: ', y_c.shape)\n",
    "\n",
    "            recon_data = torch.FloatTensor(recon_data)\n",
    "            \n",
    "\n",
    "            loss_tot = total_loss(recon_data.squeeze(0), input_data, mu_s, log_var_s, mu_c, log_var_c, y_s, y_c, y_s_given_c, y_c_given_s, labels, bow)\n",
    "            loss_tot.backward()\n",
    "            train_loss += loss_tot.item()\n",
    "\n",
    "            #train_loss += loss.item()\n",
    "            #VAE_loss.append(loss.detach().numpy())\n",
    "            #VAE_loss.append(loss.item())\n",
    "\n",
    "            optimizer_tot.step()\n",
    "            \n",
    "            if (i + 1) % 5000 == 0:\n",
    "                print(f'Train Epoch: {epoch+1} [{i * len(data)}/{len(train_loader.dataset)} ({100. * i / len(train_loader):.0f}%)]\\tLoss: {loss_tot.item() / len(data):.6f}')\n",
    "        \n",
    "        \n",
    "        average_loss = train_loss / len(train_loader.dataset)\n",
    "        #plt.plot(epoch+1,average_loss)\n",
    "        print(f'====> Epoch: {epoch+1} Average loss: {average_loss:.4f}')\n",
    "        average_losses.append(average_loss)\n",
    "\n",
    "        with torch.no_grad():\n",
    "            for i, (data, bow, labels) in enumerate(val_loader):\n",
    "                data = data.to(device)\n",
    "                val_data = data/vocab_size\n",
    "                labels = labels.type(torch.FloatTensor)\n",
    "\n",
    "\n",
    "                z_s, z_c, mu_s , log_var_s, mu_c, log_var_c = encoder(data)\n",
    "\n",
    "                z = torch.cat((z_s,z_c),dim = 2)\n",
    "\n",
    "\n",
    "                recon_data = decoder(z)\n",
    "                \n",
    "                y_s = style_classif(z_s)\n",
    "                y_c = content_classif(z_c)\n",
    "                y_s_given_c = adv_style_classif(z_c)\n",
    "                y_c_given_s = adv_content_classif(z_s)\n",
    "                \n",
    "\n",
    "                recon_data = torch.FloatTensor(recon_data)\n",
    "                \n",
    "                \n",
    "                val_loss_tot = total_loss(recon_data.squeeze(0), val_data, mu_s, log_var_s, mu_c, log_var_c, y_s, y_c, y_s_given_c, y_c_given_s, labels, bow)\n",
    "                \n",
    "                val_loss += val_loss_tot.item()\n",
    "\n",
    "\n",
    "                \n",
    "                if (i + 1) % 5000 == 0:\n",
    "                    print(f'Train Epoch: {epoch+1} [{i * len(data)}/{len(val_loader.dataset)} ({100. * i / len(val_loader):.0f}%)]\\tLoss: {val_loss_tot.item() / len(data):.6f}')\n",
    "            \n",
    "            \n",
    "        average_val_loss = val_loss / len(val_loader.dataset)\n",
    "        #print(f'====> Epoch: {epoch+1} Average loss: {average_val_loss:.4f}')\n",
    "        val_losses.append(average_val_loss)\n",
    "\n",
    "    \n",
    "    plt.plot(np.linspace(1,num_epochs,len(average_losses)), average_losses, c = 'darkcyan',label = 'train')\n",
    "    plt.plot(np.linspace(1,num_epochs,len(val_losses)), val_losses, c = 'orange',label = 'val')\n",
    "    plt.legend()\n",
    "    plt.xlabel(\"Epochs\")\n",
    "    plt.ylabel(\"Loss\")\n",
    "    plt.show()\n",
    "    return average_losses"
   ]
  },
  {
   "cell_type": "markdown",
   "metadata": {},
   "source": [
    "# è importantissimo"
   ]
  },
  {
   "cell_type": "code",
   "execution_count": null,
   "metadata": {},
   "outputs": [],
   "source": [
    "nomeFile='divina_commedia.txt'\n",
    "#nomeFile='malavoglia.txt'\n",
    "#nomeFile = 'uno_nessuno_e_i_malavoglia.txt'\n",
    "#nomeFile = 'tutto_assieme.txt'\n",
    "\n",
    "with open(nomeFile, 'r', encoding='utf-8') as f:\n",
    "    text = f.read()"
   ]
  },
  {
   "cell_type": "code",
   "execution_count": null,
   "metadata": {},
   "outputs": [],
   "source": [
    "print(len(text.split()))\n",
    "text.split()[:10]"
   ]
  },
  {
   "cell_type": "code",
   "execution_count": 17,
   "metadata": {},
   "outputs": [],
   "source": [
    "def BoW(tensor):\n",
    "    bow = torch.zeros(size = (tensor.shape[0],tensor.shape[1]))\n",
    "    #BoW = [(data1[i] == num).sum().item()/data1.shape[1]  for i in range(data1.shape[0]) for num in data1[i] if BoW[i][torch.where(data1[i] == num)[0][0].item()]==0]\n",
    "\n",
    "    for i in range(tensor.shape[0]):\n",
    "        for num in tensor[i]:\n",
    "            index = torch.where(tensor[i] == num)[0][0].item()\n",
    "            bow[i][index] = (tensor[i] == num).sum().item()/tensor.shape[1]\n",
    "\n",
    "    return torch.FloatTensor(bow)"
   ]
  },
  {
   "cell_type": "code",
   "execution_count": 19,
   "metadata": {},
   "outputs": [],
   "source": [
    "def divide_text(text, sequence_length):\n",
    "    words = text.split()\n",
    "    #words = text\n",
    "    grouped_words = [' '.join(words[i:i+sequence_length]) for i in range(0,len(words),int(sequence_length/4))]  # range (0,len(words),8)\n",
    "    #grouped_words = [' '.join(words[i:i+sequence_length]) for i in range(0,len(words),2)]\n",
    "    #grouped_words = [words[i] for i in range(0,len(words),19)]\n",
    "    #grouped_words_2d = [sentence.split() for sentence in grouped_words]\n",
    "    output_text = [grouped_words[i].split() for i in range(len(grouped_words)) if len(grouped_words[i].split()) == sequence_length]\n",
    "    return output_text"
   ]
  },
  {
   "cell_type": "code",
   "execution_count": null,
   "metadata": {},
   "outputs": [],
   "source": [
    "text_divided = divide_text(text, 20)\n",
    "np.shape(text_divided)\n",
    "text_divided[0]"
   ]
  },
  {
   "cell_type": "code",
   "execution_count": null,
   "metadata": {},
   "outputs": [],
   "source": [
    "word2vec = Word2Vec(text_divided, vector_size=256, window=10, min_count=1, workers=4)\n",
    "\n",
    "word2vec.train(text_divided, total_examples=word2vec.corpus_count, epochs=word2vec.epochs)"
   ]
  },
  {
   "cell_type": "code",
   "execution_count": null,
   "metadata": {},
   "outputs": [],
   "source": [
    "re = word2vec.wv['re']\n",
    "uomo = word2vec.wv['uomo']\n",
    "donna = word2vec.wv['donna']\n",
    "corona = word2vec.wv['corona']\n",
    "il = word2vec.wv['cappello']\n",
    "italia = word2vec.wv['italia']\n",
    "parola = word2vec.wv['bella']\n",
    "#print(np.linalg.norm(uomo+donna-parola))\n",
    "word2vec.wv.most_similar(donna-uomo, topn=5)"
   ]
  },
  {
   "cell_type": "code",
   "execution_count": null,
   "metadata": {},
   "outputs": [],
   "source": [
    "# Get the embedding dimension\n",
    "embedding_dim = word2vec.wv.vector_size\n",
    "\n",
    "# Prepare the embedding matrix\n",
    "vocab_size = len(word2vec.wv)\n",
    "print('vocab size: ', vocab_size)\n",
    "embedding_matrix = np.zeros((vocab_size, embedding_dim))\n",
    "word2idx = {word: idx for idx, word in enumerate(word2vec.wv.index_to_key)}\n",
    "idx2word = {idx: word for idx, word in enumerate(word2vec.wv.index_to_key)}\n",
    "\n",
    "for word, idx in word2idx.items():\n",
    "    embedding_matrix[idx] = word2vec.wv[word]\n",
    "\n",
    "# Convert to PyTorch tensor\n",
    "embedding_matrix = torch.tensor(embedding_matrix, dtype=torch.float32)"
   ]
  },
  {
   "cell_type": "code",
   "execution_count": null,
   "metadata": {},
   "outputs": [],
   "source": [
    "word2idx['del']\n",
    "idx2word[27]"
   ]
  },
  {
   "cell_type": "code",
   "execution_count": null,
   "metadata": {},
   "outputs": [],
   "source": [
    "prova = torch.LongTensor([[word2idx[char] for char in text_divided[i]] for i in range(len(text_divided))])"
   ]
  },
  {
   "cell_type": "code",
   "execution_count": null,
   "metadata": {},
   "outputs": [],
   "source": [
    "prova.shape"
   ]
  },
  {
   "cell_type": "code",
   "execution_count": null,
   "metadata": {},
   "outputs": [],
   "source": [
    "prova[:int(prova.shape[0]*0.9)].shape"
   ]
  },
  {
   "cell_type": "code",
   "execution_count": null,
   "metadata": {},
   "outputs": [],
   "source": [
    "input = torch.tensor([[word2idx[char] for char in text_divided[i]] for i in range(int(len(text_divided)))])\n",
    "input.shape\n",
    "#input2 = torch.tensor([[word2idx[char] for char in text_divided[i]] for i in range(int(len(text_divided)/2))])\n",
    "\n",
    "#torch.cat((input,input2),dim=0).shape"
   ]
  },
  {
   "cell_type": "code",
   "execution_count": 20,
   "metadata": {},
   "outputs": [],
   "source": [
    "def custom_dataset(file1 : str,file2 : str, sequence_length, embedding_dim, batch_size, training_fraction):\n",
    "\n",
    "    with open(file1, 'r', encoding='utf-8') as f:\n",
    "        text1 = f.read()\n",
    "\n",
    "\n",
    "    with open(file2, 'r', encoding='utf-8') as f:\n",
    "        text2 = f.read()\n",
    "\n",
    "\n",
    "    text = text1 + ' ' + text2\n",
    "    divided_text = divide_text(text, sequence_length)\n",
    "\n",
    "    #word2vec = Word2Vec(divided_text, vector_size = embedding_dim, window = int(sequence_length/2), min_count=1, workers=4)\n",
    "    word2vec = Word2Vec(divided_text, vector_size = embedding_dim, window = 5, min_count=1, workers=4)\n",
    "    word2vec.train(divided_text, total_examples=word2vec.corpus_count, epochs=20)\n",
    "\n",
    "    # Get the embedding dimension\n",
    "    embedding_dim = word2vec.wv.vector_size\n",
    "\n",
    "    # Prepare the embedding matrix\n",
    "    vocab_size = len(word2vec.wv)\n",
    "    embedding_matrix = np.zeros((vocab_size, embedding_dim))\n",
    "    word2idx = {word: idx for idx, word in enumerate(word2vec.wv.index_to_key)}\n",
    "    idx2word = {idx: word for idx, word in enumerate(word2vec.wv.index_to_key)}\n",
    "\n",
    "    for word, idx in word2idx.items():\n",
    "        embedding_matrix[idx] = word2vec.wv[word]\n",
    "\n",
    "    # Convert to PyTorch tensor\n",
    "    embedding_matrix = torch.tensor(embedding_matrix, dtype=torch.float32)\n",
    "\n",
    "\n",
    "\n",
    "    text1_divided = divide_text(text1, sequence_length)\n",
    "    data1 = torch.LongTensor([[word2idx[char] for char in text1_divided[i]] for i in range(len(text1_divided))])\n",
    "\n",
    "\n",
    "    text2_divided = divide_text(text2, sequence_length)\n",
    "    data2 = torch.LongTensor([[word2idx[char] for char in text2_divided[i]] for i in range(len(text2_divided))])\n",
    "\n",
    "\n",
    "    data1_train = data1[:int(training_fraction * data1.shape[0])]\n",
    "    data1_val = data1[int(training_fraction * data1.shape[0]):]\n",
    "\n",
    "    data2_train = data2[:int(training_fraction * data2.shape[0])]\n",
    "    data2_val = data2[int(training_fraction * data2.shape[0]):]\n",
    "\n",
    "\n",
    "    label0_train = torch.zeros(data1_train.shape[0])\n",
    "    label0_val = torch.zeros(data1_val.shape[0])\n",
    "\n",
    "    label1_train = torch.ones(data2_train.shape[0])\n",
    "    label1_val = torch.ones(data2_val.shape[0])\n",
    "\n",
    "\n",
    "    labels_train = torch.cat((label0_train, label1_train), dim = 0)\n",
    "    labels_val = torch.cat((label0_val, label1_val), dim = 0)\n",
    "\n",
    "    data_train = torch.cat((data1_train, data2_train), dim = 0)\n",
    "    data_val = torch.cat((data1_val, data2_val), dim = 0)\n",
    "\n",
    "    data_train = torch.LongTensor(data_train)\n",
    "    labels_train = labels_train.type(torch.LongTensor)\n",
    "    bow_train = BoW(data_train)\n",
    "\n",
    "    dataset_train = TensorDataset(data_train, bow_train, labels_train)\n",
    "\n",
    "    # Create a DataLoader with shuffling enabled\n",
    "    dataloader_train = DataLoader(dataset_train, batch_size = batch_size, shuffle=True)\n",
    "    #dataloader_train = DataLoader(dataset_train, batch_size = batch_size)\n",
    "\n",
    "\n",
    "    data_val = torch.LongTensor(data_val)\n",
    "    labels_val = labels_val.type(torch.LongTensor)\n",
    "    bow_val = BoW(data_val)\n",
    "\n",
    "    dataset_val = TensorDataset(data_val, bow_val, labels_val)\n",
    "\n",
    "    # Create a DataLoader with shuffling enabled\n",
    "    dataloader_val = DataLoader(dataset_val, batch_size = batch_size, shuffle = True)\n",
    "    #dataloader_val = DataLoader(dataset_val, batch_size = batch_size)\n",
    "\n",
    "    return dataloader_train, dataloader_val, embedding_dim, embedding_matrix, word2vec, idx2word, vocab_size"
   ]
  },
  {
   "cell_type": "code",
   "execution_count": 21,
   "metadata": {},
   "outputs": [],
   "source": [
    "sequence_length = 20\n",
    "embedding_dim = 300\n",
    "hidden_dim = 256\n",
    "latent_dim = 136"
   ]
  },
  {
   "cell_type": "code",
   "execution_count": 22,
   "metadata": {},
   "outputs": [
    {
     "name": "stdout",
     "output_type": "stream",
     "text": [
      "len train loader:  1143\n"
     ]
    }
   ],
   "source": [
    "train_loader, val_loader, embedding_dim, embedding_matrix, word2vec, idx2word, vocab_size = custom_dataset('divina_commedia.txt', \n",
    "                                                                                     'uno_nessuno_e_i_malavoglia.txt', \n",
    "                                                                                     sequence_length, \n",
    "                                                                                     embedding_dim,\n",
    "                                                                                     batch_size = 32, \n",
    "                                                                                     training_fraction = 0.9)\n",
    "print('len train loader: ', len(train_loader))"
   ]
  },
  {
   "cell_type": "code",
   "execution_count": 23,
   "metadata": {},
   "outputs": [
    {
     "data": {
      "text/plain": [
       "20248"
      ]
     },
     "execution_count": 23,
     "metadata": {},
     "output_type": "execute_result"
    }
   ],
   "source": [
    "vocab_size"
   ]
  },
  {
   "cell_type": "code",
   "execution_count": 24,
   "metadata": {},
   "outputs": [],
   "source": [
    "gru_encoder = GRUEncoder(embedding_matrix, embedding_dim, hidden_dim, latent_dim, 1)\n",
    "gru_decoder = GRUDecoder(latent_dim, hidden_dim, sequence_length, 1)\n",
    "\n",
    "style_classif = StyleClassifier(8)\n",
    "adv_style_classif = AdvStyleClassifier(128)\n",
    "content_classif = ContentClassifier(128, sequence_length)\n",
    "adv_content_classif = AdvContentClassifier(8, sequence_length)"
   ]
  },
  {
   "cell_type": "code",
   "execution_count": 25,
   "metadata": {},
   "outputs": [
    {
     "name": "stdout",
     "output_type": "stream",
     "text": [
      "Total parameters:  825454\n"
     ]
    }
   ],
   "source": [
    "encoder_params = sum(p.numel() for p in gru_encoder.parameters() if p.requires_grad)\n",
    "decoder_params = sum(p.numel() for p in gru_decoder.parameters() if p.requires_grad)\n",
    "style_params = sum(p.numel() for p in style_classif.parameters() if p.requires_grad)\n",
    "style_adv_params = sum(p.numel() for p in adv_style_classif.parameters() if p.requires_grad)\n",
    "content_params = sum(p.numel() for p in content_classif.parameters() if p.requires_grad)\n",
    "adv_content_params = sum(p.numel() for p in adv_content_classif.parameters() if p.requires_grad)\n",
    "total_params =  encoder_params + decoder_params +style_params + style_adv_params + content_params + adv_content_params\n",
    "print('Total parameters: ', total_params)"
   ]
  },
  {
   "cell_type": "code",
   "execution_count": 26,
   "metadata": {},
   "outputs": [
    {
     "name": "stderr",
     "output_type": "stream",
     "text": [
      "  0%|          | 0/10 [00:00<?, ?it/s]"
     ]
    },
    {
     "name": "stdout",
     "output_type": "stream",
     "text": [
      "====> Epoch: 1 Average loss: 0.1278\n"
     ]
    },
    {
     "name": "stderr",
     "output_type": "stream",
     "text": [
      " 10%|█         | 1/10 [01:13<11:01, 73.53s/it]"
     ]
    },
    {
     "name": "stdout",
     "output_type": "stream",
     "text": [
      "====> Epoch: 2 Average loss: 0.0627\n"
     ]
    },
    {
     "name": "stderr",
     "output_type": "stream",
     "text": [
      " 20%|██        | 2/10 [02:33<10:17, 77.25s/it]"
     ]
    },
    {
     "name": "stdout",
     "output_type": "stream",
     "text": [
      "====> Epoch: 3 Average loss: 0.0484\n"
     ]
    },
    {
     "name": "stderr",
     "output_type": "stream",
     "text": [
      " 30%|███       | 3/10 [03:52<09:07, 78.15s/it]"
     ]
    },
    {
     "name": "stdout",
     "output_type": "stream",
     "text": [
      "====> Epoch: 4 Average loss: 0.0425\n"
     ]
    },
    {
     "name": "stderr",
     "output_type": "stream",
     "text": [
      " 40%|████      | 4/10 [05:11<07:50, 78.43s/it]"
     ]
    },
    {
     "name": "stdout",
     "output_type": "stream",
     "text": [
      "====> Epoch: 5 Average loss: 0.0377\n"
     ]
    },
    {
     "name": "stderr",
     "output_type": "stream",
     "text": [
      " 50%|█████     | 5/10 [06:31<06:34, 78.88s/it]"
     ]
    },
    {
     "name": "stdout",
     "output_type": "stream",
     "text": [
      "====> Epoch: 6 Average loss: 0.0310\n"
     ]
    },
    {
     "name": "stderr",
     "output_type": "stream",
     "text": [
      " 60%|██████    | 6/10 [07:51<05:17, 79.38s/it]"
     ]
    },
    {
     "name": "stdout",
     "output_type": "stream",
     "text": [
      "====> Epoch: 7 Average loss: 0.0229\n"
     ]
    },
    {
     "name": "stderr",
     "output_type": "stream",
     "text": [
      " 70%|███████   | 7/10 [09:11<03:58, 79.66s/it]"
     ]
    },
    {
     "name": "stdout",
     "output_type": "stream",
     "text": [
      "====> Epoch: 8 Average loss: 0.0195\n"
     ]
    },
    {
     "name": "stderr",
     "output_type": "stream",
     "text": [
      " 80%|████████  | 8/10 [10:31<02:39, 79.76s/it]"
     ]
    },
    {
     "name": "stdout",
     "output_type": "stream",
     "text": [
      "====> Epoch: 9 Average loss: 0.0184\n"
     ]
    },
    {
     "name": "stderr",
     "output_type": "stream",
     "text": [
      " 90%|█████████ | 9/10 [11:51<01:19, 79.79s/it]"
     ]
    },
    {
     "name": "stdout",
     "output_type": "stream",
     "text": [
      "====> Epoch: 10 Average loss: 0.0178\n"
     ]
    },
    {
     "name": "stderr",
     "output_type": "stream",
     "text": [
      "100%|██████████| 10/10 [13:11<00:00, 79.12s/it]\n"
     ]
    },
    {
     "data": {
      "image/png": "[encoded data removed]",
      "text/plain": [
       "<Figure size 640x480 with 1 Axes>"
      ]
     },
     "metadata": {},
     "output_type": "display_data"
    }
   ],
   "source": [
    "losses = train_VAE(gru_encoder,\n",
    "                   gru_decoder,\n",
    "                   style_classif,\n",
    "                   adv_style_classif,\n",
    "                   content_classif,\n",
    "                   adv_content_classif,\n",
    "                   train_loader,\n",
    "                   val_loader,\n",
    "                   num_epochs = 10,\n",
    "                   vocab_size= vocab_size,\n",
    "                   lr = 4e-4)"
   ]
  },
  {
   "cell_type": "code",
   "execution_count": 29,
   "metadata": {},
   "outputs": [
    {
     "name": "stdout",
     "output_type": "stream",
     "text": [
      "label:  0\n",
      "Input sequence:  l alta provedenza che con scipio difese a roma la gloria del mondo soccorrà tosto sì com io concipio e\n",
      "Reconstructed sequence:  credere paradiso cadere pei bestie favella bianchi poveretta diletto dicer badìa corto sentii pochi destro sciara attento inferno rosso costoro\n"
     ]
    }
   ],
   "source": [
    "for i ,(data,bow,label) in enumerate(val_loader):\n",
    "    if i == 0:\n",
    "        prova = data[0]\n",
    "        labels = label[0]\n",
    "        boww = bow[0]\n",
    "\n",
    "frase = [idx2word[prova[i].item()] for i in range(prova.shape[0])]\n",
    "\n",
    "prova = prova.view(1,prova.shape[0])\n",
    "\n",
    "with torch.no_grad():\n",
    "    z_s, z_c, mu_s , log_var_s, mu_c, log_var_c = gru_encoder(prova)\n",
    "\n",
    "    z = torch.cat((z_s,z_c),dim = 2) \n",
    "\n",
    "    out = gru_decoder(z)\n",
    "\n",
    "out = out*vocab_size\n",
    "out = out.view(sequence_length)\n",
    "\n",
    "parole = []\n",
    "\n",
    "for i in range(out.shape[0]):\n",
    "    parole.append(idx2word[int(out[i].item())])\n",
    "\n",
    "print(\"label: \", labels.item())\n",
    "print(\"Input sequence: \", ' '.join(frase))\n",
    "print(\"Reconstructed sequence: \", ' '.join(parole))"
   ]
  },
  {
   "cell_type": "code",
   "execution_count": 33,
   "metadata": {},
   "outputs": [
    {
     "name": "stdout",
     "output_type": "stream",
     "text": [
      "label:  1\n",
      "Input sequence:  soffiò loro lo speziale facendo gli occhiacci volete che andiamo tutti in galera sappiate che colla giustizia bisogna dir sempre\n",
      "Reconstructed sequence:  disgrazia finalmente mentr vicario suol odo lavoro mentr alba avean manca seta buoni riguardar apposta comune fosso disgrazia potenza albero\n"
     ]
    }
   ],
   "source": [
    "for i ,(data,bow,label) in enumerate(val_loader):\n",
    "    if i == 0:\n",
    "        prova = data[0]\n",
    "        labels = label[0]\n",
    "        boww = bow[0]\n",
    "\n",
    "frase = [idx2word[prova[i].item()] for i in range(prova.shape[0])]\n",
    "\n",
    "prova = prova.view(1,prova.shape[0])\n",
    "\n",
    "with torch.no_grad():\n",
    "    z_s, z_c, mu_s , log_var_s, mu_c, log_var_c = gru_encoder(prova)\n",
    "\n",
    "    z = torch.cat((z_s,z_c),dim = 2) \n",
    "\n",
    "    out = gru_decoder(z)\n",
    "\n",
    "out = out*vocab_size\n",
    "out = out.view(sequence_length)\n",
    "\n",
    "parole = []\n",
    "\n",
    "for i in range(out.shape[0]):\n",
    "    parole.append(idx2word[int(out[i].item())])\n",
    "\n",
    "print(\"label: \", labels.item())\n",
    "print(\"Input sequence: \", ' '.join(frase))\n",
    "print(\"Reconstructed sequence: \", ' '.join(parole))"
   ]
  },
  {
   "cell_type": "code",
   "execution_count": 30,
   "metadata": {},
   "outputs": [
    {
     "name": "stdout",
     "output_type": "stream",
     "text": [
      "label:  0\n",
      "Input sequence:  vero e vede ch el s accorda con esso come nota con suo metro così la mia memoria si ricorda\n",
      "Reconstructed sequence:  camera uscì seco creatura caccia penne partito dormire anco dolor sentite disgrazia sarai faccio discorso ospedale schiera tant piano porti\n"
     ]
    }
   ],
   "source": [
    "for i ,(data,bow,label) in enumerate(val_loader):\n",
    "    if i == 0:\n",
    "        prova = data[0]\n",
    "        labels = label[0]\n",
    "        boww = bow[0]\n",
    "\n",
    "frase = [idx2word[prova[i].item()] for i in range(prova.shape[0])]\n",
    "\n",
    "prova = prova.view(1,prova.shape[0])\n",
    "\n",
    "with torch.no_grad():\n",
    "    z_s, z_c, mu_s , log_var_s, mu_c, log_var_c = gru_encoder(prova)\n",
    "\n",
    "    z = torch.cat((z_s,z_c),dim = 2) \n",
    "\n",
    "    out = gru_decoder(z)\n",
    "\n",
    "out = out*vocab_size\n",
    "out = out.view(sequence_length)\n",
    "\n",
    "parole = []\n",
    "\n",
    "for i in range(out.shape[0]):\n",
    "    parole.append(idx2word[int(out[i].item())])\n",
    "\n",
    "print(\"label: \", labels.item())\n",
    "print(\"Input sequence: \", ' '.join(frase))\n",
    "print(\"Reconstructed sequence: \", ' '.join(parole))"
   ]
  },
  {
   "cell_type": "code",
   "execution_count": 34,
   "metadata": {},
   "outputs": [
    {
     "name": "stdout",
     "output_type": "stream",
     "text": [
      "label:  1\n",
      "Input sequence:  ho trovato più niente di quel che avevo lasciato e comare mena non mi è parsa più quella uno che\n",
      "Reconstructed sequence:  fosser folle diversi signora aspetta pugni convenne suocero spirti francesco segue giudice cavallo contento tarì seco dolore belle folla dianzi\n"
     ]
    }
   ],
   "source": [
    "for i ,(data,bow,label) in enumerate(val_loader):\n",
    "    if i == 0:\n",
    "        prova = data[0]\n",
    "        labels = label[0]\n",
    "        boww = bow[0]\n",
    "\n",
    "frase = [idx2word[prova[i].item()] for i in range(prova.shape[0])]\n",
    "\n",
    "prova = prova.view(1,prova.shape[0])\n",
    "\n",
    "with torch.no_grad():\n",
    "    z_s, z_c, mu_s , log_var_s, mu_c, log_var_c = gru_encoder(prova)\n",
    "\n",
    "    z = torch.cat((z_s,z_c),dim = 2) \n",
    "\n",
    "    out = gru_decoder(z)\n",
    "\n",
    "out = out*vocab_size\n",
    "out = out.view(sequence_length)\n",
    "\n",
    "parole = []\n",
    "\n",
    "for i in range(out.shape[0]):\n",
    "    parole.append(idx2word[int(out[i].item())])\n",
    "\n",
    "print(\"label: \", labels.item())\n",
    "print(\"Input sequence: \", ' '.join(frase))\n",
    "print(\"Reconstructed sequence: \", ' '.join(parole))"
   ]
  }
 ],
 "metadata": {
  "kernelspec": {
   "display_name": "ox",
   "language": "python",
   "name": "python3"
  },
  "language_info": {
   "codemirror_mode": {
    "name": "ipython",
    "version": 3
   },
   "file_extension": ".py",
   "mimetype": "text/x-python",
   "name": "python",
   "nbconvert_exporter": "python",
   "pygments_lexer": "ipython3",
   "version": "3.12.1"
  }
 },
 "nbformat": 4,
 "nbformat_minor": 2
}
